{
 "cells": [
  {
   "cell_type": "code",
   "execution_count": 1,
   "metadata": {},
   "outputs": [
    {
     "name": "stdout",
     "output_type": "stream",
     "text": [
      "           userID      itemID  rating   timestamp\n",
      "0  A2CX7LUOHB2NDG  0321732944 5.00000  1341100800\n",
      "1  A2NWSAGRHCP8N5  0439886341 1.00000  1367193600\n",
      "2  A2WNBOD3WNDNKT  0439886341 3.00000  1374451200\n",
      "3  A1GI0U4ZRJA8WN  0439886341 1.00000  1334707200\n",
      "4  A1QGNMC6O1VW39  0511189877 5.00000  1397433600\n"
     ]
    }
   ],
   "source": [
    "#Author:Vineeth Govind\n",
    "from __future__ import (absolute_import, division, print_function,\n",
    "                        unicode_literals) \n",
    "import pandas as pd, numpy as np\n",
    "from surprise import KNNWithMeans\n",
    "from surprise import SVD\n",
    "from surprise import accuracy\n",
    "from surprise.model_selection import train_test_split\n",
    "import matplotlib.pyplot as plt\n",
    "import seaborn as sns\n",
    "import warnings\n",
    "warnings.filterwarnings('ignore')\n",
    "\n",
    "\n",
    "#to display output in non scientific format(not exponential)\n",
    "pd.set_option('display.float_format', lambda x: '%.5f' % x)\n",
    "\n",
    "#2)Read the data as a data frame using pandas\n",
    "\n",
    "ratings_orginal=pd.read_csv(\"ratings_Electronics.csv\")\n",
    "\n",
    "#make copy of dataframe with 10th of the data as it runs into memory issues\n",
    "ratings=ratings_orginal[:782448].copy()\n",
    "\n",
    "#3)add column names as the dataset has none \n",
    "\n",
    "ratings.columns = [\"userID\",\"itemID\",\"rating\",\"timestamp\"]\n",
    "print(ratings.head())"
   ]
  },
  {
   "cell_type": "code",
   "execution_count": 2,
   "metadata": {},
   "outputs": [
    {
     "name": "stdout",
     "output_type": "stream",
     "text": [
      "No of rows:  782448\n",
      "No of columns:  3\n"
     ]
    }
   ],
   "source": [
    "#4)drop timestamp column\n",
    "\n",
    "ratings=ratings.drop('timestamp',axis=1)\n",
    "\n",
    "#4)# Check the number of rows and columns\n",
    "\n",
    "rows, columns = ratings.shape\n",
    "print(\"No of rows: \", rows) \n",
    "print(\"No of columns: \", columns) "
   ]
  },
  {
   "cell_type": "code",
   "execution_count": 3,
   "metadata": {},
   "outputs": [
    {
     "name": "stdout",
     "output_type": "stream",
     "text": [
      "data attributes are \n",
      " userID     object\n",
      "itemID     object\n",
      "rating    float64\n",
      "dtype: object\n"
     ]
    }
   ],
   "source": [
    "#5)check datatypes\n",
    "\n",
    "print(\"data attributes are \\n\",ratings.dtypes)"
   ]
  },
  {
   "cell_type": "code",
   "execution_count": 4,
   "metadata": {},
   "outputs": [
    {
     "name": "stdout",
     "output_type": "stream",
     "text": [
      "Number of missing values across columns-\n",
      " userID    0\n",
      "itemID    0\n",
      "rating    0\n",
      "dtype: int64\n"
     ]
    }
   ],
   "source": [
    "#6)Check for missing values present\n",
    "\n",
    "print('Number of missing values across columns-\\n', ratings.isnull().sum())"
   ]
  },
  {
   "cell_type": "code",
   "execution_count": 5,
   "metadata": {},
   "outputs": [
    {
     "name": "stdout",
     "output_type": "stream",
     "text": [
      "stats of rating variable \n",
      " count   782448.00000\n",
      "mean         3.98195\n",
      "std          1.39613\n",
      "min          1.00000\n",
      "25%          3.00000\n",
      "50%          5.00000\n",
      "75%          5.00000\n",
      "max          5.00000\n",
      "Name: rating, dtype: float64\n"
     ]
    }
   ],
   "source": [
    "#there are no missing values\n",
    "\n",
    "#7)summary of stats of rating columns\n",
    "print(\"stats of rating variable \\n\",ratings[\"rating\"].describe().transpose())"
   ]
  },
  {
   "cell_type": "code",
   "execution_count": 6,
   "metadata": {},
   "outputs": [
    {
     "name": "stdout",
     "output_type": "stream",
     "text": [
      "The minimum rating is 1.0\n",
      "The maximum rating is 5.0\n"
     ]
    }
   ],
   "source": [
    "#8) find minimum and maximum ratings\n",
    "print('The minimum rating is', ratings[\"rating\"].min())\n",
    "print('The maximum rating is', ratings[\"rating\"].max())"
   ]
  },
  {
   "cell_type": "code",
   "execution_count": 7,
   "metadata": {},
   "outputs": [
    {
     "data": {
      "image/png": "[encoded data removed]",
      "text/plain": [
       "<Figure size 432x288 with 1 Axes>"
      ]
     },
     "metadata": {
      "needs_background": "light"
     },
     "output_type": "display_data"
    }
   ],
   "source": [
    "#The minimum rating is 1 and maximum rating is 5.\n",
    "\n",
    "#9)plot the distribution of ratings\n",
    "\n",
    "rating_plot = sns.countplot(\"rating\", data=ratings)\n",
    "rating_plot.set(xlabel='ratings', ylabel='Total number of ratings') \n",
    "plt.title('Rating Distribution')\n",
    "plt.show()"
   ]
  },
  {
   "cell_type": "code",
   "execution_count": 8,
   "metadata": {},
   "outputs": [
    {
     "name": "stdout",
     "output_type": "stream",
     "text": [
      "most rated users are \n",
      " userID\n",
      "A5JLAU2ARJ0BO     384\n",
      "A231WM2Z2JL0U3    249\n",
      "A25HBO5V8S8SEA    163\n",
      "A6FIAB28IS79      113\n",
      "AT6CZDCP4TRGA     112\n",
      "AKT8TGIT6VVZ5     108\n",
      "A11D1KHM7DVOQK    106\n",
      "A2B7BUH8834Y6M     98\n",
      "A2AEZQ3DGBBLPR     81\n",
      "A2R6RA8FRBS608     79\n",
      "AGHZXQL9F94T9      74\n",
      "A203OCQQ12MAVT     73\n",
      "A1MJMYLRTZ76ZX     68\n",
      "A1F9Z42CFF9IAY     68\n",
      "A3OXHLG6DIBRW8     67\n",
      "A149RNR5RH19YY     65\n",
      "A12DLJESJKM1OQ     64\n",
      "A1FR68QH6Z4YZM     64\n",
      "A1JWSDDIH5Z7DV     64\n",
      "ABH9D1TEOJ56E      64\n",
      "A2CL818RN52NWN     59\n",
      "A1RPTVW5VEOSI      58\n",
      "A7Y6AVS576M03      58\n",
      "AT2J7H5TRZM8Z      57\n",
      "A2BGZ52M908MJY     54\n",
      "A2AY4YUOX2N1BQ     50\n",
      "AGXV8E7XK9J6H      50\n",
      "AWPODHOB4GFWL      49\n",
      "A680RUE1FDO8B      49\n",
      "A2XRMQA6PJ5ZJ8     48\n",
      "ALUNVOQRXOZIA      47\n",
      "A1ODOGXEYECQQ8     46\n",
      "A38QEATH3NODFM     45\n",
      "A1VQHH85U7PX0      45\n",
      "A1435P5AMCPB3X     44\n",
      "A1KD8NJPZ01R37     44\n",
      "A8TZ88OM8YOLW      43\n",
      "A2PSD2R9A1CXG7     43\n",
      "A32QOZWIKQDNZX     40\n",
      "AD0J5KK4WQXNS      39\n",
      "A3NCIN6TNL0MGA     39\n",
      "A4WEZJOIZIV4U      39\n",
      "A1JUBRIZMO0RJV     38\n",
      "A3OA4DV4L81N1D     38\n",
      "A250AXLRBVYKB4     38\n",
      "A15QYHQH80W30L     38\n",
      "A11KZ906QD08C5     37\n",
      "A1CPRP3VFJRS1R     37\n",
      "A2ZR3YTMEEIIZ4     37\n",
      "AY8Q1X7G96HV5      37\n",
      "dtype: int64\n"
     ]
    }
   ],
   "source": [
    "#10) Top 50 users based on rating\n",
    "\n",
    "most_rated = ratings.groupby('userID').size().sort_values(ascending=False)[:50]\n",
    "print(\"most rated users are \\n\", most_rated)"
   ]
  },
  {
   "cell_type": "code",
   "execution_count": 9,
   "metadata": {},
   "outputs": [
    {
     "name": "stdout",
     "output_type": "stream",
     "text": [
      "A5JLAU2ARJ0BO     384\n",
      "A231WM2Z2JL0U3    249\n",
      "A25HBO5V8S8SEA    163\n",
      "A6FIAB28IS79      113\n",
      "AT6CZDCP4TRGA     112\n",
      "                 ... \n",
      "A1XFM2OV19O60N      1\n",
      "A39YHB6O29AY88      1\n",
      "A2FGKT5RL674KV      1\n",
      "A1AYBZ9CJ297J5      1\n",
      "A3HZV9RGI727WH      1\n",
      "Name: userID, Length: 606149, dtype: int64\n",
      "Number of users who have rated 50 or more items = 2550\n",
      "Number of unique USERS in final data =  27\n",
      "Number of unique ITEMS in final data =  27\n"
     ]
    }
   ],
   "source": [
    "#11)For more accurate results only consider users who have rated atleast 50 items\n",
    "#(MAKING THE MATRIX MORE DENSE)\n",
    "\n",
    "counts=ratings[\"rating\"].value_counts()\n",
    "counts = pd.value_counts(ratings['userID'])\n",
    "print(counts)\n",
    "ratings_df = ratings[ratings[\"userID\"].isin(counts[counts >= 50].index)]\n",
    "\n",
    "print('Number of users who have rated 50 or more items =',len(ratings_df))\n",
    "print('Number of unique USERS in final data = ', ratings_df['userID'].nunique())\n",
    "print('Number of unique ITEMS in final data = ', ratings_df['userID'].nunique())"
   ]
  },
  {
   "cell_type": "code",
   "execution_count": 10,
   "metadata": {},
   "outputs": [
    {
     "name": "stdout",
     "output_type": "stream",
     "text": [
      "userID      A11D1KHM7DVOQK  A12DLJESJKM1OQ  A149RNR5RH19YY  A1F9Z42CFF9IAY  \\\n",
      "itemID                                                                       \n",
      "1400532655         0.00000         0.00000         0.00000         0.00000   \n",
      "B000000O48         0.00000         0.00000         0.00000         0.00000   \n",
      "B000001OL6         0.00000         0.00000         0.00000         0.00000   \n",
      "B000001OMN         2.00000         0.00000         0.00000         0.00000   \n",
      "B00000J05A         0.00000         0.00000         0.00000         0.00000   \n",
      "...                    ...             ...             ...             ...   \n",
      "B000BSOBG0         0.00000         0.00000         0.00000         0.00000   \n",
      "B000BTFZZA         0.00000         0.00000         0.00000         0.00000   \n",
      "B000BTL0OA         0.00000         0.00000         5.00000         0.00000   \n",
      "B000BTPVHW         0.00000         0.00000         0.00000         0.00000   \n",
      "B000BTQXUG         0.00000         0.00000         0.00000         0.00000   \n",
      "\n",
      "userID      A1FR68QH6Z4YZM  A1JWSDDIH5Z7DV  A1MJMYLRTZ76ZX  A1RPTVW5VEOSI  \\\n",
      "itemID                                                                      \n",
      "1400532655         0.00000         0.00000         0.00000        0.00000   \n",
      "B000000O48         0.00000         0.00000         0.00000        0.00000   \n",
      "B000001OL6         0.00000         0.00000         0.00000        0.00000   \n",
      "B000001OMN         0.00000         0.00000         0.00000        0.00000   \n",
      "B00000J05A         0.00000         0.00000         0.00000        0.00000   \n",
      "...                    ...             ...             ...            ...   \n",
      "B000BSOBG0         0.00000         0.00000         0.00000        0.00000   \n",
      "B000BTFZZA         0.00000         0.00000         0.00000        0.00000   \n",
      "B000BTL0OA         0.00000         0.00000         0.00000        0.00000   \n",
      "B000BTPVHW         0.00000         0.00000         0.00000        3.00000   \n",
      "B000BTQXUG         0.00000         0.00000         0.00000        0.00000   \n",
      "\n",
      "userID      A203OCQQ12MAVT  A231WM2Z2JL0U3  ...  A3OXHLG6DIBRW8  \\\n",
      "itemID                                      ...                   \n",
      "1400532655         0.00000         0.00000  ...         0.00000   \n",
      "B000000O48         0.00000         0.00000  ...         0.00000   \n",
      "B000001OL6         0.00000         0.00000  ...         0.00000   \n",
      "B000001OMN         0.00000         0.00000  ...         0.00000   \n",
      "B00000J05A         0.00000         0.00000  ...         0.00000   \n",
      "...                    ...             ...  ...             ...   \n",
      "B000BSOBG0         0.00000         0.00000  ...         4.00000   \n",
      "B000BTFZZA         0.00000         0.00000  ...         0.00000   \n",
      "B000BTL0OA         0.00000         0.00000  ...         0.00000   \n",
      "B000BTPVHW         0.00000         0.00000  ...         0.00000   \n",
      "B000BTQXUG         0.00000         0.00000  ...         4.00000   \n",
      "\n",
      "userID      A5JLAU2ARJ0BO  A6FIAB28IS79  A7Y6AVS576M03  ABH9D1TEOJ56E  \\\n",
      "itemID                                                                  \n",
      "1400532655        1.00000       0.00000        0.00000        0.00000   \n",
      "B000000O48        0.00000       0.00000        0.00000        0.00000   \n",
      "B000001OL6        0.00000       0.00000        0.00000        0.00000   \n",
      "B000001OMN        0.00000       0.00000        0.00000        0.00000   \n",
      "B00000J05A        0.00000       3.00000        0.00000        0.00000   \n",
      "...                   ...           ...            ...            ...   \n",
      "B000BSOBG0        0.00000       0.00000        0.00000        0.00000   \n",
      "B000BTFZZA        0.00000       0.00000        0.00000        0.00000   \n",
      "B000BTL0OA        0.00000       0.00000        0.00000        0.00000   \n",
      "B000BTPVHW        0.00000       0.00000        0.00000        0.00000   \n",
      "B000BTQXUG        0.00000       0.00000        0.00000        0.00000   \n",
      "\n",
      "userID      AGHZXQL9F94T9  AGXV8E7XK9J6H  AKT8TGIT6VVZ5  AT2J7H5TRZM8Z  \\\n",
      "itemID                                                                   \n",
      "1400532655        0.00000        0.00000        0.00000        0.00000   \n",
      "B000000O48        0.00000        0.00000        0.00000        0.00000   \n",
      "B000001OL6        0.00000        0.00000        0.00000        0.00000   \n",
      "B000001OMN        0.00000        0.00000        0.00000        0.00000   \n",
      "B00000J05A        0.00000        0.00000        0.00000        0.00000   \n",
      "...                   ...            ...            ...            ...   \n",
      "B000BSOBG0        0.00000        0.00000        0.00000        0.00000   \n",
      "B000BTFZZA        0.00000        0.00000        5.00000        0.00000   \n",
      "B000BTL0OA        0.00000        0.00000        0.00000        0.00000   \n",
      "B000BTPVHW        0.00000        0.00000        0.00000        0.00000   \n",
      "B000BTQXUG        0.00000        0.00000        0.00000        0.00000   \n",
      "\n",
      "userID      AT6CZDCP4TRGA  \n",
      "itemID                     \n",
      "1400532655        0.00000  \n",
      "B000000O48        0.00000  \n",
      "B000001OL6        0.00000  \n",
      "B000001OMN        0.00000  \n",
      "B00000J05A        0.00000  \n",
      "...                   ...  \n",
      "B000BSOBG0        0.00000  \n",
      "B000BTFZZA        0.00000  \n",
      "B000BTL0OA        0.00000  \n",
      "B000BTPVHW        0.00000  \n",
      "B000BTQXUG        0.00000  \n",
      "\n",
      "[2207 rows x 27 columns]\n"
     ]
    }
   ],
   "source": [
    "#12)creating a rating matrix using pivot function and fill NANS with zero\n",
    "\n",
    "final_ratings =ratings_df.pivot(index = 'userID', columns ='itemID', values = 'rating').fillna(0)\n",
    "print(final_ratings.T)"
   ]
  },
  {
   "cell_type": "code",
   "execution_count": 11,
   "metadata": {},
   "outputs": [
    {
     "name": "stdout",
     "output_type": "stream",
     "text": [
      "given_num_of_ratings =  2550\n",
      "possible_num_of_ratings =  59589\n",
      "density of matrix is  4.2793132960781355\n"
     ]
    }
   ],
   "source": [
    "#13)calculate density of matrix\n",
    "\n",
    "given_num_of_ratings = np.count_nonzero(final_ratings)\n",
    "print('given_num_of_ratings = ', given_num_of_ratings)\n",
    "possible_num_of_ratings = final_ratings.shape[0] * final_ratings.shape[1]\n",
    "print('possible_num_of_ratings = ', possible_num_of_ratings)\n",
    "density = (given_num_of_ratings/possible_num_of_ratings)*100\n",
    "print ('density of matrix is ',density)"
   ]
  },
  {
   "cell_type": "code",
   "execution_count": 12,
   "metadata": {},
   "outputs": [
    {
     "name": "stdout",
     "output_type": "stream",
     "text": [
      "                userID      itemID  rating\n",
      "397256   A5JLAU2ARJ0BO  B0001I2EZK 5.00000\n",
      "565825   AGHZXQL9F94T9  B0006HTPQ2 5.00000\n",
      "168430  A231WM2Z2JL0U3  B00006B1HC 5.00000\n",
      "471345  A1F9Z42CFF9IAY  B0002ILKMW 3.00000\n",
      "732782  A3OXHLG6DIBRW8  B000B5H2BE 4.00000\n",
      "train date shape is  (1785, 3)\n",
      "test data shape is  (765, 3)\n"
     ]
    }
   ],
   "source": [
    "#the matrix has a low density \n",
    "\n",
    "#14)#Split the training and test data in the ratio 70:30\n",
    "\n",
    "from sklearn.model_selection import train_test_split\n",
    "train_data, test_data = train_test_split(ratings_df, test_size = 0.3, random_state=0)\n",
    "print(train_data.head())\n",
    "print(\"train date shape is \",train_data.shape)\n",
    "print(\"test data shape is \",test_data.shape)"
   ]
  },
  {
   "cell_type": "code",
   "execution_count": 13,
   "metadata": {},
   "outputs": [
    {
     "name": "stdout",
     "output_type": "stream",
     "text": [
      "       itemID  score\n",
      "0  1400532655      1\n",
      "1  B000001OL6      1\n",
      "2  B000001OMN      1\n",
      "3  B00000J061      1\n",
      "4  B00000J1E6      1\n"
     ]
    }
   ],
   "source": [
    "#15)Build popularity based recommendation system\n",
    "\n",
    "#Count of userID for each unique product as recommendation score \n",
    "train_data_grouped = train_data.groupby('itemID').agg({'userID': 'count'}).reset_index()\n",
    "train_data_grouped.rename(columns = {'userID': 'score'},inplace=True)\n",
    "print(train_data_grouped.head())"
   ]
  },
  {
   "cell_type": "code",
   "execution_count": 14,
   "metadata": {},
   "outputs": [
    {
     "name": "stdout",
     "output_type": "stream",
     "text": [
      "          itemID  score    Rank\n",
      "81    B00004SB92      5 1.00000\n",
      "902   B00009R6TA      4 2.00000\n",
      "708   B00007KDVI      4 3.00000\n",
      "1594  B000BKJZ9Q      3 4.00000\n",
      "1563  B000AJIF4E      3 5.00000\n"
     ]
    }
   ],
   "source": [
    "#Sort the products on recommendation score \n",
    "train_data_sort = train_data_grouped.sort_values(['score', 'itemID'], ascending = False) \n",
    "      \n",
    "#Generate a recommendation rank based upon score \n",
    "train_data_sort['Rank'] = train_data_sort['score'].rank(ascending=0, method='first') \n",
    "          \n",
    "#Get the top 5 recommendations \n",
    "popularity_recommendations = train_data_sort.head(5) \n",
    "print(popularity_recommendations) "
   ]
  },
  {
   "cell_type": "code",
   "execution_count": 15,
   "metadata": {},
   "outputs": [
    {
     "name": "stdout",
     "output_type": "stream",
     "text": [
      "Here is the recommendation using popularity based recommender for the userID: 7\n",
      " \n",
      "      userID      itemID  score    Rank\n",
      "81         7  B00004SB92      5 1.00000\n",
      "902        7  B00009R6TA      4 2.00000\n",
      "708        7  B00007KDVI      4 3.00000\n",
      "1594       7  B000BKJZ9Q      3 4.00000\n",
      "1563       7  B000AJIF4E      3 5.00000\n",
      "\n",
      "\n",
      "Here is the recommendation using popularity based recommender for the userID: 21\n",
      " \n",
      "      userID      itemID  score    Rank\n",
      "81        21  B00004SB92      5 1.00000\n",
      "902       21  B00009R6TA      4 2.00000\n",
      "708       21  B00007KDVI      4 3.00000\n",
      "1594      21  B000BKJZ9Q      3 4.00000\n",
      "1563      21  B000AJIF4E      3 5.00000\n",
      "\n",
      "\n",
      "Here is the recommendation using popularity based recommender for the userID: 79\n",
      " \n",
      "      userID      itemID  score    Rank\n",
      "81        79  B00004SB92      5 1.00000\n",
      "902       79  B00009R6TA      4 2.00000\n",
      "708       79  B00007KDVI      4 3.00000\n",
      "1594      79  B000BKJZ9Q      3 4.00000\n",
      "1563      79  B000AJIF4E      3 5.00000\n",
      "\n",
      "\n"
     ]
    }
   ],
   "source": [
    "# Use popularity based recommender model to make predictions\n",
    "def recommend(user_id):     \n",
    "    user_recommendations = popularity_recommendations \n",
    "          \n",
    "    #Add user_id column for which the recommendations are being generated \n",
    "    user_recommendations['userID'] = user_id \n",
    "      \n",
    "    #Bring user_id column to the front \n",
    "    cols = user_recommendations.columns.tolist() \n",
    "    cols = cols[-1:] + cols[:-1] \n",
    "    user_recommendations = user_recommendations[cols] \n",
    "          \n",
    "    return user_recommendations \n",
    "\n",
    "\n",
    "find_recom = [7,21,79]   # This list is user choice.\n",
    "for i in find_recom:\n",
    "    print(\"Here is the recommendation using popularity based recommender for the userID: %d\\n \" %(i))\n",
    "    print(recommend(i))    \n",
    "    print(\"\\n\") \n",
    "    "
   ]
  },
  {
   "cell_type": "code",
   "execution_count": 16,
   "metadata": {},
   "outputs": [
    {
     "name": "stdout",
     "output_type": "stream",
     "text": [
      "Estimating biases using als...\n",
      "Computing the pearson_baseline similarity matrix...\n",
      "Done computing similarity matrix.\n",
      "RMSE: 1.1796\n",
      "accuracy of user based collaborative filtering is  1.1796163141284002\n"
     ]
    }
   ],
   "source": [
    "    \n",
    "#16)collabrative filering recommendation system\n",
    "#USER BASED COLLABRATIVE FILTERING\n",
    "\n",
    "from surprise import Reader  \n",
    "from surprise import KNNWithMeans\n",
    "from surprise import accuracy\n",
    "from surprise.model_selection import train_test_split,GridSearchCV\n",
    "from surprise import Dataset\n",
    "                          \n",
    "reader = Reader(rating_scale=(1, 5))\n",
    "data = Dataset.load_from_df(ratings_df[[\"userID\", \"itemID\", \"rating\"]], reader)                        \n",
    "trainset, testset = train_test_split(data, test_size=.30)                                               \n",
    "\n",
    "# now test on the trainset                                                 \n",
    " \n",
    "algo = KNNWithMeans(k=5, sim_options={'name': 'pearson_baseline', 'user_based': False})\n",
    "algo.fit(trainset)\n",
    "\n",
    "# run the trained model against the testset\n",
    "test_pred = algo.test(testset)\n",
    "\n",
    "# run the trained model against the testset\n",
    "test_pred = algo.test(testset)\n",
    "#print(test_pred)\n",
    "\n",
    "# get RMSE\n",
    "\n",
    "print(\"accuracy of user based collaborative filtering is \",accuracy.rmse(test_pred, verbose=True) )"
   ]
  },
  {
   "cell_type": "code",
   "execution_count": 17,
   "metadata": {},
   "outputs": [
    {
     "name": "stdout",
     "output_type": "stream",
     "text": [
      "user: A231WM2Z2JL0U3 item: B00009R6TA r_ui = 0.00   est = 4.67   {'actual_k': 0, 'was_impossible': False}\n",
      "user: A231WM2Z2JL0U3 item: B00009R6TA r_ui = 0.00   est = 4.67   {'actual_k': 0, 'was_impossible': False}\n"
     ]
    }
   ],
   "source": [
    "# we can now query for specific predicions\n",
    "uid =\"A231WM2Z2JL0U3\"  # raw user id\n",
    "iid = \"B00009R6TA\"  # raw item id\n",
    "\n",
    "# get a prediction for specific users and items.\n",
    "pred = algo.predict(uid, iid, r_ui=0, verbose=True)\n",
    "print(pred)"
   ]
  },
  {
   "cell_type": "code",
   "execution_count": 20,
   "metadata": {},
   "outputs": [
    {
     "name": "stdout",
     "output_type": "stream",
     "text": [
      "top 5 recommended products for userid A231WM2Z2JL0U3 by user based collabrative filtering recommender are \n",
      "             iid    r_ui     est\n",
      "764  B00005T3TL 5.00000 4.15798\n",
      "233  B000063SGW 5.00000 4.15798\n",
      "511  B000021YUO 5.00000 5.00000\n",
      "241  B00005MAAR 5.00000 4.15798\n",
      "244  B00004Y2MM 5.00000 5.00000\n"
     ]
    }
   ],
   "source": [
    "#generating top 5 predictions for userid \"A231WM2Z2JL0U3\"\n",
    "pred = pd.DataFrame(test_pred)\n",
    "print(\"top 5 recommended products for userid A231WM2Z2JL0U3 by user based collabrative filtering recommender are \\n\",pred[pred['uid'] == \"A231WM2Z2JL0U3\"][['iid', 'r_ui','est']].sort_values(by = 'r_ui',ascending = False).head(5)) \n",
    "    "
   ]
  },
  {
   "cell_type": "code",
   "execution_count": 21,
   "metadata": {},
   "outputs": [
    {
     "name": "stdout",
     "output_type": "stream",
     "text": [
      "Estimating biases using als...\n",
      "Computing the pearson_baseline similarity matrix...\n",
      "Done computing similarity matrix.\n",
      "Estimating biases using als...\n",
      "Computing the pearson_baseline similarity matrix...\n",
      "Done computing similarity matrix.\n",
      "Estimating biases using als...\n",
      "Computing the pearson_baseline similarity matrix...\n",
      "Done computing similarity matrix.\n",
      "Estimating biases using als...\n",
      "Computing the pearson_baseline similarity matrix...\n",
      "Done computing similarity matrix.\n",
      "Estimating biases using als...\n",
      "Computing the pearson_baseline similarity matrix...\n",
      "Done computing similarity matrix.\n",
      "Evaluating RMSE, MAE of algorithm KNNWithMeans on 5 split(s).\n",
      "\n",
      "                  Fold 1  Fold 2  Fold 3  Fold 4  Fold 5  Mean    Std     \n",
      "RMSE (testset)    1.2978  1.2332  1.1480  1.1883  1.2954  1.2325  0.0588  \n",
      "MAE (testset)     0.9655  0.9452  0.8991  0.9156  0.9886  0.9428  0.0325  \n",
      "Fit time          0.21    0.20    0.23    0.20    0.23    0.21    0.01    \n",
      "Test time         0.02    0.01    0.01    0.01    0.01    0.01    0.00    \n",
      "RMSE: 1.0485\n",
      "accuracy using SVD IS accuracy 1.0485025791887477\n"
     ]
    }
   ],
   "source": [
    "   \n",
    "#using svd  \n",
    "\n",
    "from surprise import SVDpp\n",
    "from surprise import SVD\n",
    "from surprise.model_selection import GridSearchCV\n",
    "from surprise.model_selection import cross_validate\n",
    "\n",
    "sv = SVD(n_factors=5,biased=False)   \n",
    "sv.fit(trainset)\n",
    "cross_validate(algo, data, measures=['RMSE', 'MAE'], cv=5, verbose=True)\n",
    "\n",
    "# Use the new parameters with the train data\n",
    "algo = SVD(n_factors=160, n_epochs=100, lr_all=0.005, reg_all=0.1)\n",
    "algo.fit(trainset)\n",
    "test_pred_svd = algo.test(testset)\n",
    "\n",
    "print(\"accuracy using SVD IS accuracy\",accuracy.rmse(test_pred_svd, verbose=True))"
   ]
  },
  {
   "cell_type": "code",
   "execution_count": 22,
   "metadata": {},
   "outputs": [
    {
     "name": "stdout",
     "output_type": "stream",
     "text": [
      "top 5 recommended products for userid A231WM2Z2JL0U3 by SVD recommender are \n",
      "             iid    r_ui     est\n",
      "764  B00005T3TL 5.00000 4.15798\n",
      "233  B000063SGW 5.00000 4.15798\n",
      "511  B000021YUO 5.00000 5.00000\n",
      "241  B00005MAAR 5.00000 4.15798\n",
      "244  B00004Y2MM 5.00000 5.00000\n"
     ]
    }
   ],
   "source": [
    "pred = pd.DataFrame(test_pred)\n",
    "print(\"top 5 recommended products for userid A231WM2Z2JL0U3 by SVD recommender are \\n\",pred[pred['uid'] == \"A231WM2Z2JL0U3\"][['iid', 'r_ui','est']].sort_values(by = 'r_ui',ascending = False).head(5))"
   ]
  },
  {
   "cell_type": "code",
   "execution_count": null,
   "metadata": {},
   "outputs": [],
   "source": [
    "#INSIGHTS\n",
    "#1)THE TIMESTAMP COLUMN CAN BE DROPPED AS IT PROVIDES NO INFORMATION FOR THE RECOMMENDER SYSTEM OR ANY SORT OF PREDICTIONS\n",
    "#2)THE COUNTPLOT SHOWS THAT MAJORITY OF USERS HAVE GIVEN A RATING OF 5 ,FOLLOWED BY RATING OF 4.THE RATING GIVEN BY LEAST NUMBER USERS IS 2\n",
    "#3)ALTHOUGH THERE WERE NO MISING VALUES,THE DENSITY OF THE MATRIX IS 4.279 WHICH SHOWS THAT IT A VERY SPARSE MATRIX \n",
    "#4)SINCE THE DATA WAS HUGE WITH AROUND 7.8 MILLION COLUMNS THE PYTHON COMPILER RAN INTO MEMORY ISSUES.SO A SMALLER SUBSET(10%) OF THE DATA WAS USED\n",
    "#5)A POPULARIY BASED SYSTEM WHICH IS THE MOST BASIC RECOMMENDATION SYSTEM WAS BUILT AND USED TO RECOMMEND ITEMS FOR USERS.\n",
    "#6) THE MAIN PROBLEM WITH POPULARITY BASED RECOMMENDATION SYSTEM IS THAT THE PERSONALIZATION IS NOT AVAILABLE WITH THIS METHOD \n",
    "#I.E. EVEN THOUGH YOU KNOW THE BEHAVIOUR OF THE USER YOU CANNOT RECOMMEND ITEMS ACCORDINGLY.\n",
    "#7)A USER BASED COLLABRATIVE FILTERING RECOMMENDER WAS BUILT AND USED TO RECOMMEND 5 NEW PRODUCTS FOR A USER AND IT HAD A RMSE SCORE OF 1.211\n",
    "#8)MATRIX FACTORIZATION TECHNIQUES(SVD) ARE USUALLY MORE EFFECTIVE BECAUSE THEY ALLOW US TO DISCOVER THE LATENT FEATURES UNDERLYING \n",
    "#THE INTERACTIONS BETWEEN USERS AND ITEMS.\n",
    "#9)A RECOMMENDER SYSTEM USING SVD WAS BUILT.THOUGH THE SVD AND COLLABRATIVE FILTERING RECOMMENDERS RECOMMENDEDED \n",
    "#THE SAME 5 ITEMS FOR A USER,THE RMSE SCORE  OF SVD WAS LOWER(1.05) HENCE SUGGESTING IT PERFORMED BETTER THAN COLLABRATIVE FILTERING RECOMMENDER\n",
    "                                                                 \n",
    "                                                                      \n",
    "                                                                      \n",
    "                                                                      \n",
    "                                                                      \n",
    "                                                                      \n",
    "                                                                      "
   ]
  }
 ],
 "metadata": {
  "kernelspec": {
   "display_name": "Python 3",
   "language": "python",
   "name": "python3"
  },
  "language_info": {
   "codemirror_mode": {
    "name": "ipython",
    "version": 3
   },
   "file_extension": ".py",
   "mimetype": "text/x-python",
   "name": "python",
   "nbconvert_exporter": "python",
   "pygments_lexer": "ipython3",
   "version": "3.7.6"
  }
 },
 "nbformat": 4,
 "nbformat_minor": 4
}
