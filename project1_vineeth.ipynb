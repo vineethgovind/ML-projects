{
 "cells": [
  {
   "cell_type": "code",
   "execution_count": 1,
   "metadata": {},
   "outputs": [
    {
     "name": "stdout",
     "output_type": "stream",
     "text": [
      "age           int64\n",
      "sex          object\n",
      "bmi         float64\n",
      "children      int64\n",
      "smoker       object\n",
      "region       object\n",
      "charges     float64\n",
      "dtype: object\n",
      "numerical attributes are :\n",
      "               age          bmi     children       charges\n",
      "count  1338.000000  1338.000000  1338.000000   1338.000000\n",
      "mean     39.207025    30.663397     1.094918  13270.422265\n",
      "std      14.049960     6.098187     1.205493  12110.011237\n",
      "min      18.000000    15.960000     0.000000   1121.873900\n",
      "25%      27.000000    26.296250     0.000000   4740.287150\n",
      "50%      39.000000    30.400000     1.000000   9382.033000\n",
      "75%      51.000000    34.693750     2.000000  16639.912515\n",
      "max      64.000000    53.130000     5.000000  63770.428010\n",
      "bmi distribution is:\n",
      "32.300    13\n",
      "28.310     9\n",
      "31.350     8\n",
      "30.800     8\n",
      "30.875     8\n",
      "          ..\n",
      "20.100     1\n",
      "29.545     1\n",
      "37.900     1\n",
      "25.520     1\n",
      "24.090     1\n",
      "Name: bmi, Length: 548, dtype: int64\n"
     ]
    },
    {
     "data": {
      "text/plain": [
       "<Figure size 640x480 with 1 Axes>"
      ]
     },
     "metadata": {},
     "output_type": "display_data"
    },
    {
     "name": "stdout",
     "output_type": "stream",
     "text": [
      "age distribution is:\n",
      "18    69\n",
      "19    68\n",
      "51    29\n",
      "45    29\n",
      "46    29\n",
      "47    29\n",
      "48    29\n",
      "50    29\n",
      "52    29\n",
      "20    29\n",
      "26    28\n",
      "54    28\n",
      "53    28\n",
      "25    28\n",
      "24    28\n",
      "49    28\n",
      "23    28\n",
      "22    28\n",
      "21    28\n",
      "27    28\n",
      "28    28\n",
      "31    27\n",
      "29    27\n",
      "30    27\n",
      "41    27\n",
      "43    27\n",
      "44    27\n",
      "40    27\n",
      "42    27\n",
      "57    26\n",
      "34    26\n",
      "33    26\n",
      "32    26\n",
      "56    26\n",
      "55    26\n",
      "59    25\n",
      "58    25\n",
      "39    25\n",
      "38    25\n",
      "35    25\n",
      "36    25\n",
      "37    25\n",
      "63    23\n",
      "60    23\n",
      "61    23\n",
      "62    23\n",
      "64    22\n",
      "Name: age, dtype: int64\n"
     ]
    },
    {
     "data": {
      "text/plain": [
       "<Figure size 640x480 with 1 Axes>"
      ]
     },
     "metadata": {},
     "output_type": "display_data"
    },
    {
     "name": "stdout",
     "output_type": "stream",
     "text": [
      "charges distribution is:\n",
      "1639.56310     2\n",
      "8825.08600     1\n",
      "43254.41795    1\n",
      "5257.50795     1\n",
      "1980.07000     1\n",
      "              ..\n",
      "12269.68865    1\n",
      "6360.99360     1\n",
      "7371.77200     1\n",
      "16420.49455    1\n",
      "34254.05335    1\n",
      "Name: charges, Length: 1337, dtype: int64\n"
     ]
    },
    {
     "data": {
      "text/plain": [
       "<Figure size 640x480 with 1 Axes>"
      ]
     },
     "metadata": {},
     "output_type": "display_data"
    },
    {
     "name": "stdout",
     "output_type": "stream",
     "text": [
      "bmi skew is:\n",
      "0.2840471105987448\n",
      "age skew is:\n",
      "0.05567251565299186\n",
      "charges skew is:\n",
      "1.5158796580240388\n",
      "bmi_outlier is : \n",
      "(array([ 116,  286,  401,  543,  847,  860, 1047, 1088, 1317], dtype=int64),)\n",
      "age_outlier is :\n",
      "(array([], dtype=int64),)\n",
      "number of charges_outlier is :\n",
      "(array([  14,   19,   23,   29,   30,   34,   38,   39,   49,   53,   55,\n",
      "         82,   84,   86,   94,  109,  123,  146,  158,  161,  175,  185,\n",
      "        203,  223,  240,  242,  251,  252,  254,  256,  263,  265,  271,\n",
      "        281,  288,  292,  298,  312,  314,  322,  327,  328,  330,  338,\n",
      "        373,  377,  381,  420,  421,  422,  441,  476,  488,  500,  524,\n",
      "        530,  543,  549,  558,  569,  577,  587,  609,  615,  621,  623,\n",
      "        629,  665,  667,  668,  674,  677,  682,  689,  697,  706,  725,\n",
      "        736,  738,  739,  742,  759,  803,  819,  826,  828,  842,  845,\n",
      "        850,  852,  856,  860,  883,  893,  901,  917,  947,  951,  953,\n",
      "        956,  958, 1012, 1021, 1022, 1031, 1036, 1037, 1047, 1049, 1062,\n",
      "       1070, 1078, 1090, 1096, 1111, 1117, 1118, 1122, 1124, 1139, 1146,\n",
      "       1152, 1156, 1186, 1206, 1207, 1218, 1230, 1240, 1241, 1249, 1284,\n",
      "       1288, 1291, 1300, 1301, 1303, 1313, 1323], dtype=int64),)\n"
     ]
    },
    {
     "data": {
      "text/plain": [
       "<Figure size 640x480 with 1 Axes>"
      ]
     },
     "metadata": {},
     "output_type": "display_data"
    },
    {
     "data": {
      "text/plain": [
       "<Figure size 640x480 with 1 Axes>"
      ]
     },
     "metadata": {},
     "output_type": "display_data"
    },
    {
     "data": {
      "text/plain": [
       "<Figure size 640x480 with 1 Axes>"
      ]
     },
     "metadata": {},
     "output_type": "display_data"
    },
    {
     "data": {
      "text/plain": [
       "<Figure size 640x480 with 1 Axes>"
      ]
     },
     "metadata": {},
     "output_type": "display_data"
    },
    {
     "data": {
      "text/plain": [
       "<Figure size 1000x1000 with 20 Axes>"
      ]
     },
     "metadata": {},
     "output_type": "display_data"
    },
    {
     "name": "stdout",
     "output_type": "stream",
     "text": [
      "mean insurance charge of smoker is:\n",
      "32050.23183153284\n",
      "mean insurance charge of non-smoker is:\n",
      "8434.268297856204\n"
     ]
    },
    {
     "data": {
      "text/plain": [
       "<Figure size 640x480 with 1 Axes>"
      ]
     },
     "metadata": {},
     "output_type": "display_data"
    },
    {
     "name": "stdout",
     "output_type": "stream",
     "text": [
      "p_value is 8.271435842177219e-283\n",
      "average male bmi is :\n",
      "30.943128698224854\n",
      "average female bmi is :\n",
      "30.37774924471299\n"
     ]
    },
    {
     "data": {
      "text/plain": [
       "<Figure size 640x480 with 1 Axes>"
      ]
     },
     "metadata": {},
     "output_type": "display_data"
    },
    {
     "name": "stdout",
     "output_type": "stream",
     "text": [
      "p_value is 0.08997637178984932\n",
      "0.006548143503580696\n",
      "F_onewayResult(statistic=0.3344720147757968, pvalue=0.7158579926754841)\n"
     ]
    }
   ],
   "source": [
    "# -*- coding: utf-8 -*-\n",
    "\"\"\"\n",
    "Created on Tue Feb 17 13:35:26 2020\n",
    "\n",
    "@author: Vineeth Govind\n",
    "\"\"\"\n",
    "\n",
    "#1 import libraries\n",
    "import numpy as np\n",
    "import pandas as pd\n",
    "import scipy.stats as stats\n",
    "import matplotlib.pyplot as plt\n",
    "import seaborn as sns\n",
    "#2 read data as dataframe\n",
    "ins_df = pd.read_csv('insurance.csv')\n",
    "#3.a shape of data\n",
    "ins_df.shape\n",
    "#3.b data type of each attribute\n",
    "df_att = ins_df.dtypes\n",
    "print(df_att)\n",
    "#3.c checking the prescence of missing values\n",
    "df_att.isnull()\n",
    "#3.d summary of numerical attributes\n",
    "num_att=ins_df.describe()\n",
    "print(\"numerical attributes are :\")\n",
    "print(num_att)\n",
    "#3.e distribution of bmi,age and charges column along with plot\n",
    "bmi_dist = ins_df['bmi'].value_counts()\n",
    "print(\"bmi distribution is:\")\n",
    "print(bmi_dist)\n",
    "sns.distplot(ins_df['bmi'], kde=False, color='blue', bins=100)\n",
    "plt.show()\n",
    "age_dist = ins_df['age'].value_counts()\n",
    "print(\"age distribution is:\")\n",
    "print(age_dist)\n",
    "sns.distplot(ins_df['age'], kde=False, color='green', bins=100)\n",
    "plt.show()\n",
    "charges_dist = ins_df['charges'].value_counts()\n",
    "print(\"charges distribution is:\")\n",
    "print(charges_dist)\n",
    "sns.distplot(ins_df['charges'], kde=False, color='red', bins=100)\n",
    "plt.show()\n",
    "#3.f skewness measurement of bmi,age and charges column\n",
    "bmi_skew = ins_df['bmi'].skew(skipna=None, level=None, numeric_only=None)\n",
    "print(\"bmi skew is:\")\n",
    "print(bmi_skew)\n",
    "age_skew = ins_df['age'].skew(skipna=None, level=None, numeric_only=None)\n",
    "print(\"age skew is:\")\n",
    "print(age_skew)\n",
    "charges_skew = ins_df['charges'].skew(skipna=None, level=None, numeric_only=None)\n",
    "print(\"charges skew is:\")\n",
    "print(charges_skew)\n",
    "#3.g outlier determination function using interquartile range\n",
    "def outlier(datacolumn):\n",
    " sorted(datacolumn)\n",
    " Q1,Q3 = np.percentile(datacolumn , [25,75])\n",
    " IQR = Q3-Q1\n",
    " lower_range = Q1 -(1.5*IQR)\n",
    " upper_range = Q3 +(1.5*IQR)\n",
    " #return lower_range,upper_range\n",
    " return np.where((datacolumn > upper_range) | (datacolumn < lower_range))\n",
    "#calling the function to determine bmi,age and charges outlier\n",
    "bmi_outlier =outlier(ins_df.bmi)\n",
    "print(\"bmi_outlier is : \")\n",
    "print(bmi_outlier)\n",
    "age_outlier =outlier(ins_df.age)\n",
    "print(\"age_outlier is :\")\n",
    "print(age_outlier)\n",
    "charges_outlier =(outlier(ins_df.charges))\n",
    "print(\"number of charges_outlier is :\")\n",
    "print(charges_outlier)\n",
    "#3.h distribution of categorical columns\n",
    "sns.set(style=\"whitegrid\")\n",
    "#distribution based on number of children\n",
    "sns.boxplot(x='children', y='charges', data= ins_df)\n",
    "plt.show()\n",
    "#distribution based on sex\n",
    "sns.boxplot(x='sex', y='charges', data= ins_df)\n",
    "plt.show()\n",
    "#distribution based on region\n",
    "sns.boxplot(x='region', y='charges', data= ins_df)\n",
    "plt.show()\n",
    "#distribution based on smoking habit\n",
    "sns.boxplot(x='smoker', y='charges', data= ins_df)\n",
    "plt.show()\n",
    "#3.i pair plot all columns\n",
    "sns.pairplot(ins_df)  \n",
    "plt.show()\n",
    "# 4.a calculation of mean of smokers,nonsmokers and scatter plot to show comparison of charges for smokers and non smokers\n",
    "smokers_mean=ins_df.charges[ins_df.smoker=='yes', None].mean()\n",
    "print(\"mean insurance charge of smoker is:\")\n",
    "print(smokers_mean)\n",
    "nonsmokers_mean=ins_df.charges[ins_df.smoker=='no', None].mean()\n",
    "print(\"mean insurance charge of non-smoker is:\")\n",
    "print(nonsmokers_mean)\n",
    "sns.scatterplot(x='age', y='charges', data=ins_df, hue='smoker')\n",
    "plt.show()\n",
    "#The mean values and scatter plots  clearly show that smokers pay higher charges than nonsmokers\n",
    "#proving using hypthesis testing\n",
    "#H0 = smokers and non-smokers pay same charges\n",
    "#Ha =smokers and non-smokers pay significantly different charges\n",
    "smoker_charges= ins_df.charges[ins_df.smoker=='yes']\n",
    "nonsmoker_charges= ins_df.charges[ins_df.smoker=='no']\n",
    "#T test\n",
    "t,p_value =stats.ttest_ind(smoker_charges,nonsmoker_charges)\n",
    "print(\"p_value is\", p_value)\n",
    "#Since p_value is less than 0.05,we accept the alternate hypothesis that smokers pay significantly  higher charges than non-smokers\n",
    "\n",
    "#4.b comparison of male female bmi and scatter plot to show comparison\n",
    "male_bmi_mean= ins_df.bmi[ins_df.sex=='male',None].mean()\n",
    "print(\"average male bmi is :\")\n",
    "print(male_bmi_mean)\n",
    "female_bmi_mean= ins_df.bmi[ins_df.sex=='female',None].mean()\n",
    "print(\"average female bmi is :\")\n",
    "print(female_bmi_mean)\n",
    "sns.scatterplot(x='age',y='bmi', data=ins_df, hue='sex')\n",
    "plt.show()\n",
    "#both the mean values and scatterplot do not prove that bmi of males differ significantly from females hence  hypthesis testing is used\n",
    "#H0 = male and female bmi do not differ significantly\n",
    "#Ha =male and female bmi differ significantly\n",
    "male_bmi=ins_df.bmi[ins_df.sex=='male']\n",
    "female_bmi=ins_df.bmi[ins_df.sex=='female']\n",
    "#using T test\n",
    "t,p_value =stats.ttest_ind(male_bmi,female_bmi)\n",
    "print(\"p_value is\", p_value)\n",
    "#since p_value is more than 0.05 we accept the null hypothesis than male and female bmi do not differ significantly\n",
    "#4.c as we have to find if there is a relationship between the proportion of smokers of different genders,chi square test is used.\n",
    "#H0=smoking habits are same for males and females\n",
    "#Ha= smoking habits are different for males and females\n",
    "prop_smoker=pd.crosstab(ins_df['sex'] ,ins_df['smoker'])\n",
    "chi2,p,dof,expected =  stats.chi2_contingency(prop_smoker)\n",
    "print(p)\n",
    "#Since p_value is less than 0.05 we accept the alternate hypothesis that smoking habits are different for males and females\n",
    "#4.d As we have to conduct hypothesis test for more than 2 values,ANOVA can be used\n",
    "#H0= number of children doesnt affect bmi\n",
    "#Ha= number of children affects bmi\n",
    "female_df =ins_df[ins_df['sex']=='female' ]\n",
    "female_0= female_df[female_df.children == 0]['bmi']\n",
    "female_1= female_df[female_df.children == 1]['bmi']\n",
    "female_2= female_df[female_df.children == 2]['bmi']\n",
    "fstat= stats.f_oneway(female_0,female_1,female_2)\n",
    "print(fstat)\n",
    "#since p value is greater than 0.05,we accept the null hypothesis that number of children doesnt affect bmi"
   ]
  }
 ],
 "metadata": {
  "celltoolbar": "Raw Cell Format",
  "kernelspec": {
   "display_name": "Python 3",
   "language": "python",
   "name": "python3"
  },
  "language_info": {
   "codemirror_mode": {
    "name": "ipython",
    "version": 3
   },
   "file_extension": ".py",
   "mimetype": "text/x-python",
   "name": "python",
   "nbconvert_exporter": "python",
   "pygments_lexer": "ipython3",
   "version": "3.7.4"
  }
 },
 "nbformat": 4,
 "nbformat_minor": 2
}
