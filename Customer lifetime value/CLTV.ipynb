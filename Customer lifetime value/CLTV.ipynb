{
 "cells": [
  {
   "cell_type": "markdown",
   "metadata": {},
   "source": [
    "### Importing libraries"
   ]
  },
  {
   "cell_type": "code",
   "execution_count": 65,
   "metadata": {},
   "outputs": [],
   "source": [
    
    "import pandas as pd\n",
    "import numpy as np\n",
    "# Stuff to make working with dates easier\n",
    "from datetime import datetime as dt\n",
    "from dateutil.relativedelta import relativedelta"
   ]
  },
  {
   "cell_type": "markdown",
   "metadata": {},
   "source": [
    "### Importing files"
   ]
  },
  {
   "cell_type": "code",
   "execution_count": 66,
   "metadata": {},
   "outputs": [
    {
     "data": {
      "text/html": [
       "<div>\n",
       "<style scoped>\n",
       "    .dataframe tbody tr th:only-of-type {\n",
       "        vertical-align: middle;\n",
       "    }\n",
       "\n",
       "    .dataframe tbody tr th {\n",
       "        vertical-align: top;\n",
       "    }\n",
       "\n",
       "    .dataframe thead th {\n",
       "        text-align: right;\n",
       "    }\n",
       "</style>\n",
       "<table border=\"1\" class=\"dataframe\">\n",
       "  <thead>\n",
       "    <tr style=\"text-align: right;\">\n",
       "      <th></th>\n",
       "      <th>id</th>\n",
       "      <th>customer_id</th>\n",
       "      <th>timestamp</th>\n",
       "      <th>discount_percentage</th>\n",
       "      <th>customer_role</th>\n",
       "      <th>status</th>\n",
       "    </tr>\n",
       "  </thead>\n",
       "  <tbody>\n",
       "    <tr>\n",
       "      <th>0</th>\n",
       "      <td>1429</td>\n",
       "      <td>1008</td>\n",
       "      <td>2017-04-01 00:55:27</td>\n",
       "      <td>0</td>\n",
       "      <td>customer</td>\n",
       "      <td>done</td>\n",
       "    </tr>\n",
       "    <tr>\n",
       "      <th>1</th>\n",
       "      <td>1378</td>\n",
       "      <td>1002</td>\n",
       "      <td>2017-04-01 01:21:31</td>\n",
       "      <td>0</td>\n",
       "      <td>customer</td>\n",
       "      <td>done</td>\n",
       "    </tr>\n",
       "    <tr>\n",
       "      <th>2</th>\n",
       "      <td>1355</td>\n",
       "      <td>1001</td>\n",
       "      <td>2017-04-01 01:28:43</td>\n",
       "      <td>0</td>\n",
       "      <td>customer</td>\n",
       "      <td>done</td>\n",
       "    </tr>\n",
       "  </tbody>\n",
       "</table>\n",
       "</div>"
      ],
      "text/plain": [
       "     id  customer_id            timestamp  discount_percentage customer_role  \\\n",
       "0  1429         1008  2017-04-01 00:55:27                    0      customer   \n",
       "1  1378         1002  2017-04-01 01:21:31                    0      customer   \n",
       "2  1355         1001  2017-04-01 01:28:43                    0      customer   \n",
       "\n",
       "  status  \n",
       "0   done  \n",
       "1   done  \n",
       "2   done  "
      ]
     },
     "execution_count": 66,
     "metadata": {},
     "output_type": "execute_result"
    }
   ],
   "source": [
    "baskets = pd.read_csv('data/baskets.csv')\n",
    "baskets.head(3)"
   ]
  },
  {
   "cell_type": "code",
   "execution_count": 67,
   "metadata": {},
   "outputs": [
    {
     "data": {
      "text/html": [
       "<div>\n",
       "<style scoped>\n",
       "    .dataframe tbody tr th:only-of-type {\n",
       "        vertical-align: middle;\n",
       "    }\n",
       "\n",
       "    .dataframe tbody tr th {\n",
       "        vertical-align: top;\n",
       "    }\n",
       "\n",
       "    .dataframe thead th {\n",
       "        text-align: right;\n",
       "    }\n",
       "</style>\n",
       "<table border=\"1\" class=\"dataframe\">\n",
       "  <thead>\n",
       "    <tr style=\"text-align: right;\">\n",
       "      <th></th>\n",
       "      <th>id</th>\n",
       "      <th>basket_id</th>\n",
       "      <th>item_name</th>\n",
       "      <th>price</th>\n",
       "      <th>product_id</th>\n",
       "    </tr>\n",
       "  </thead>\n",
       "  <tbody>\n",
       "    <tr>\n",
       "      <th>0</th>\n",
       "      <td>5</td>\n",
       "      <td>1429</td>\n",
       "      <td>coffee-mugbox</td>\n",
       "      <td>1500</td>\n",
       "      <td>1</td>\n",
       "    </tr>\n",
       "    <tr>\n",
       "      <th>1</th>\n",
       "      <td>9</td>\n",
       "      <td>1378</td>\n",
       "      <td>coffee-mugbox</td>\n",
       "      <td>1500</td>\n",
       "      <td>1</td>\n",
       "    </tr>\n",
       "    <tr>\n",
       "      <th>2</th>\n",
       "      <td>10</td>\n",
       "      <td>1355</td>\n",
       "      <td>coffee-mugbox</td>\n",
       "      <td>1500</td>\n",
       "      <td>1</td>\n",
       "    </tr>\n",
       "  </tbody>\n",
       "</table>\n",
       "</div>"
      ],
      "text/plain": [
       "   id  basket_id      item_name  price  product_id\n",
       "0   5       1429  coffee-mugbox   1500           1\n",
       "1   9       1378  coffee-mugbox   1500           1\n",
       "2  10       1355  coffee-mugbox   1500           1"
      ]
     },
     "execution_count": 67,
     "metadata": {},
     "output_type": "execute_result"
    }
   ],
   "source": [
    "transactions = pd.read_csv('data/transactions.csv')\n",
    "transactions.head(3)"
   ]
  },
  {
   "cell_type": "markdown",
   "metadata": {},
   "source": [
    "### Exploratory data analysis, data cleaning, munging etc. "
   ]
  },
  {
   "cell_type": "markdown",
   "metadata": {},
   "source": [
    "#### Setting baskets timestamp datatype to be easier to work with later"
   ]
  },
  {
   "cell_type": "code",
   "execution_count": 68,
   "metadata": {},
   "outputs": [],
   "source": [
    "baskets['timestamp'] = baskets['timestamp'].astype('datetime64[ns]') "
   ]
  },
  {
   "cell_type": "markdown",
   "metadata": {},
   "source": [
    "#### First purchase and last purchase"
   ]
  },
  {
   "cell_type": "code",
   "execution_count": 69,
   "metadata": {},
   "outputs": [
    {
     "data": {
      "text/plain": [
       "Timestamp('2017-04-01 00:55:27')"
      ]
     },
     "execution_count": 69,
     "metadata": {},
     "output_type": "execute_result"
    }
   ],
   "source": [
    "baskets.timestamp.min()"
   ]
  },
  {
   "cell_type": "code",
   "execution_count": 70,
   "metadata": {},
   "outputs": [
    {
     "data": {
      "text/plain": [
       "Timestamp('2020-01-01 05:59:53')"
      ]
     },
     "execution_count": 70,
     "metadata": {},
     "output_type": "execute_result"
    }
   ],
   "source": [
    "baskets.timestamp.max()"
   ]
  },
  {
   "cell_type": "markdown",
   "metadata": {},
   "source": [
    "##### More stuff"
   ]
  },
  {
   "cell_type": "code",
   "execution_count": 71,
   "metadata": {},
   "outputs": [
    {
     "name": "stdout",
     "output_type": "stream",
     "text": [
      "there are 0 duplicated rows in baskets\n",
      "there are 0 duplicated rows in transactions\n"
     ]
    }
   ],
   "source": [
    "\n",
    "#Checking for duplicates\n",
    "print(f\"there are {baskets.duplicated().sum()} duplicated rows in baskets\")\n",
    "print(f\"there are {transactions.duplicated().sum()} duplicated rows in transactions\")"
   ]
  },
  {
   "cell_type": "code",
   "execution_count": 72,
   "metadata": {},
   "outputs": [
    {
     "name": "stdout",
     "output_type": "stream",
     "text": [
      "id                     0\n",
      "customer_id            0\n",
      "timestamp              0\n",
      "discount_percentage    0\n",
      "customer_role          0\n",
      "status                 0\n",
      "dtype: int64\n",
      "id            0\n",
      "basket_id     0\n",
      "item_name     0\n",
      "price         0\n",
      "product_id    0\n",
      "dtype: int64\n"
     ]
    }
   ],
   "source": [
    "#Checking for missing values in baskets.csv\n",
    "print(baskets.isna().sum())\n",
    "print(transactions.isna().sum())"
   ]
  },
  {
   "cell_type": "code",
   "execution_count": 73,
   "metadata": {},
   "outputs": [
    {
     "data": {
      "image/png": "[encoded data removed]",
      "text/plain": [
       "<Figure size 432x288 with 1 Axes>"
      ]
     },
     "metadata": {
      "needs_background": "light"
     },
     "output_type": "display_data"
    }
   ],
   "source": [
    "#Histogram to show the frequency of items sold\n",
    "import matplotlib.pyplot as plt\n",
    "plt.hist(transactions[\"item_name\"])\n",
    "plt.xticks(fontsize=8,rotation=45)\n",
    "plt.show()"
   ]
  },
  {
   "cell_type": "code",
   "execution_count": 74,
   "metadata": {},
   "outputs": [],
   "source": [
    "#Converting the timestamp to month year format\n",
    "transactions['timestamp'] = baskets['timestamp'].apply(lambda x: x.strftime('%m-%Y'))      "
   ]
  },
  {
   "cell_type": "code",
   "execution_count": 75,
   "metadata": {},
   "outputs": [
    {
     "name": "stdout",
     "output_type": "stream",
     "text": [
      "   id  basket_id      item_name  price  product_id timestamp  customer_id  \\\n",
      "0   5       1429  coffee-mugbox   15.0           1   04-2017       1008.0   \n",
      "1   9       1378  coffee-mugbox   15.0           1   04-2017       1002.0   \n",
      "2  10       1355  coffee-mugbox   15.0           1   04-2017       1001.0   \n",
      "3  13       1337  coffee-mugbox   15.0           1   04-2017       1000.0   \n",
      "4  16       1402  coffee-mugbox   15.0           1   04-2017       1005.0   \n",
      "5  21       1501  coffee-mugbox   15.0           1   05-2017       1002.0   \n",
      "6  26       1481  coffee-mugbox   15.0           1   05-2017       1001.0   \n",
      "7  28       1562  coffee-mugbox   15.0           1   05-2017       1011.0   \n",
      "8  32       1570  coffee-mugbox   15.0           1   05-2017       1013.0   \n",
      "9  35       1594  coffee-mugbox   15.0           1   05-2017       1015.0   \n",
      "\n",
      "   discount_percentage status  \n",
      "0                  0.0   done  \n",
      "1                  0.0   done  \n",
      "2                  0.0   done  \n",
      "3                  0.0   done  \n",
      "4                  0.0   done  \n",
      "5                  0.0   done  \n",
      "6                  0.0   done  \n",
      "7                  0.0   done  \n",
      "8                  0.0   done  \n",
      "9                  0.0   done  \n"
     ]
    }
   ],
   "source": [
    "#customer id from baskets is added as a new column to transactions as the column \"id\" \"in baskets correspond to \n",
    "# the column basket_id in transactions.timestamp,dsicount_percentage,status are also copied in a similar way as its more convinient to have \n",
    "#the required columns in one dataframe\n",
    "\n",
    "transactions[['customer_id']] = baskets[['customer_id']]\n",
    "#transactions[['timestamp']] = baskets[['timestamp']]\n",
    "transactions[['discount_percentage']] = baskets[['discount_percentage']]\n",
    "transactions[['status']] = baskets[['status']]\n",
    "# convert the price from cents to dollars\n",
    "transactions['price']=transactions['price']/100 \n",
    "print(transactions.head(10))\n"
   ]
  },
  {
   "cell_type": "code",
   "execution_count": 76,
   "metadata": {},
   "outputs": [
    {
     "name": "stderr",
     "output_type": "stream",
     "text": [
      "<ipython-input-76-387e4b3a966d>:2: SettingWithCopyWarning: \n",
      "A value is trying to be set on a copy of a slice from a DataFrame\n",
      "\n",
      "See the caveats in the documentation: https://pandas.pydata.org/pandas-docs/stable/user_guide/indexing.html#returning-a-view-versus-a-copy\n",
      "  transactions.status[transactions.status == 'done'] = 1\n",
      "<ipython-input-76-387e4b3a966d>:3: SettingWithCopyWarning: \n",
      "A value is trying to be set on a copy of a slice from a DataFrame\n",
      "\n",
      "See the caveats in the documentation: https://pandas.pydata.org/pandas-docs/stable/user_guide/indexing.html#returning-a-view-versus-a-copy\n",
      "  transactions.status[transactions.status == 'returned'] = 0\n",
      "<ipython-input-76-387e4b3a966d>:4: SettingWithCopyWarning: \n",
      "A value is trying to be set on a copy of a slice from a DataFrame\n",
      "\n",
      "See the caveats in the documentation: https://pandas.pydata.org/pandas-docs/stable/user_guide/indexing.html#returning-a-view-versus-a-copy\n",
      "  transactions.status[transactions.status == 'canceled_by_admin'] = 0\n"
     ]
    }
   ],
   "source": [
    "# replacing status column values with numbers. there is no revenue if the item is returned or canceled by admin\n",
    "transactions.status[transactions.status == 'done'] = 1\n",
    "transactions.status[transactions.status == 'returned'] = 0\n",
    "transactions.status[transactions.status == 'canceled_by_admin'] = 0"
   ]
  },
  {
   "cell_type": "code",
   "execution_count": 77,
   "metadata": {},
   "outputs": [
    {
     "name": "stdout",
     "output_type": "stream",
     "text": [
      "    id  basket_id      item_name  price  product_id timestamp  customer_id  \\\n",
      "0    5       1429  coffee-mugbox   15.0           1   04-2017       1008.0   \n",
      "1    9       1378  coffee-mugbox   15.0           1   04-2017       1002.0   \n",
      "2   10       1355  coffee-mugbox   15.0           1   04-2017       1001.0   \n",
      "3   13       1337  coffee-mugbox   15.0           1   04-2017       1000.0   \n",
      "4   16       1402  coffee-mugbox   15.0           1   04-2017       1005.0   \n",
      "5   21       1501  coffee-mugbox   15.0           1   05-2017       1002.0   \n",
      "6   26       1481  coffee-mugbox   15.0           1   05-2017       1001.0   \n",
      "7   28       1562  coffee-mugbox   15.0           1   05-2017       1011.0   \n",
      "8   32       1570  coffee-mugbox   15.0           1   05-2017       1013.0   \n",
      "9   35       1594  coffee-mugbox   15.0           1   05-2017       1015.0   \n",
      "10  38       1601  coffee-mugbox   15.0           1   05-2017       1018.0   \n",
      "11  40       1503  coffee-mugbox   15.0           1   05-2017       1005.0   \n",
      "12  45       1546  coffee-mugbox   15.0           1   05-2017       1008.0   \n",
      "13  49       1445  coffee-mugbox   15.0           1   05-2017       1000.0   \n",
      "14  51       1651  coffee-mugbox   15.0           1   06-2017       1008.0   \n",
      "\n",
      "    discount_percentage status revenue  \n",
      "0                   0.0      1      15  \n",
      "1                   0.0      1      15  \n",
      "2                   0.0      1      15  \n",
      "3                   0.0      1      15  \n",
      "4                   0.0      1      15  \n",
      "5                   0.0      1      15  \n",
      "6                   0.0      1      15  \n",
      "7                   0.0      1      15  \n",
      "8                   0.0      1      15  \n",
      "9                   0.0      1      15  \n",
      "10                  0.0      1      15  \n",
      "11                  0.0      1      15  \n",
      "12                  0.0      1      15  \n",
      "13                  0.0      0       0  \n",
      "14                  0.0      1      15  \n"
     ]
    }
   ],
   "source": [
    "#Calculating revenue using the formula (price-price*discount percentage)*status \n",
    "#A few of the customers were admins but all them had a  100 percentage discount and hence \n",
    "#the revenue automatically becomes 0 when calculated using the below equation\n",
    "transactions['revenue']=(transactions['price']-(transactions['price']*transactions['discount_percentage']/100\n",
    "                        ))*(transactions['status'])\n",
    "                                                               \n",
    "print(transactions.head(15))"
   ]
  },
  {
   "cell_type": "code",
   "execution_count": 78,
   "metadata": {},
   "outputs": [
    {
     "data": {
      "text/html": [
       "<div>\n",
       "<style scoped>\n",
       "    .dataframe tbody tr th:only-of-type {\n",
       "        vertical-align: middle;\n",
       "    }\n",
       "\n",
       "    .dataframe tbody tr th {\n",
       "        vertical-align: top;\n",
       "    }\n",
       "\n",
       "    .dataframe thead th {\n",
       "        text-align: right;\n",
       "    }\n",
       "</style>\n",
       "<table border=\"1\" class=\"dataframe\">\n",
       "  <thead>\n",
       "    <tr style=\"text-align: right;\">\n",
       "      <th></th>\n",
       "      <th>customer_id</th>\n",
       "      <th>revenue</th>\n",
       "      <th>quantity</th>\n",
       "    </tr>\n",
       "  </thead>\n",
       "  <tbody>\n",
       "    <tr>\n",
       "      <th>197</th>\n",
       "      <td>1253.0</td>\n",
       "      <td>20.0</td>\n",
       "      <td>1</td>\n",
       "    </tr>\n",
       "    <tr>\n",
       "      <th>198</th>\n",
       "      <td>1253.0</td>\n",
       "      <td>25.0</td>\n",
       "      <td>1</td>\n",
       "    </tr>\n",
       "    <tr>\n",
       "      <th>199</th>\n",
       "      <td>1253.0</td>\n",
       "      <td>30.0</td>\n",
       "      <td>3</td>\n",
       "    </tr>\n",
       "  </tbody>\n",
       "</table>\n",
       "</div>"
      ],
      "text/plain": [
       "     customer_id  revenue  quantity\n",
       "197       1253.0     20.0         1\n",
       "198       1253.0     25.0         1\n",
       "199       1253.0     30.0         3"
      ]
     },
     "execution_count": 78,
     "metadata": {},
     "output_type": "execute_result"
    }
   ],
   "source": [
    "#Now we have an new dataframe which aggregates the\n",
    "#total quantity of a single item purchased by the customer\n",
    "transactions_new = transactions.groupby(['customer_id','revenue']).size().reset_index(name='quantity')\n",
    "transactions_new[transactions_new['customer_id'] == 1253]\n",
    "#print(transactions.head(200))"
   ]
  },
  {
   "cell_type": "code",
   "execution_count": 79,
   "metadata": {},
   "outputs": [
    {
     "name": "stdout",
     "output_type": "stream",
     "text": [
      "    product_id timestamp  customer_id  revenue  quantity\n",
      "0            1   04-2017          1.0      0.0      31.0\n",
      "1            1   04-2017          2.0      0.0      31.0\n",
      "2            1   04-2017          3.0      0.0      21.0\n",
      "3            1   04-2017          4.0      0.0      11.0\n",
      "4            1   04-2017          5.0      0.0       7.0\n",
      "5            1   05-2017          6.0      0.0       2.0\n",
      "6            1   05-2017       1000.0      0.0       1.0\n",
      "7            1   05-2017       1000.0     15.0       1.0\n",
      "8            1   05-2017       1001.0     15.0       2.0\n",
      "9            1   05-2017       1002.0     15.0       2.0\n",
      "10           1   05-2017       1005.0      0.0       1.0\n",
      "11           1   05-2017       1005.0     15.0       9.0\n",
      "12           1   05-2017       1008.0     15.0       3.0\n",
      "13           1   05-2017       1011.0     15.0       2.0\n",
      "14           1   06-2017       1013.0     15.0       2.0\n"
     ]
    }
   ],
   "source": [
    "#merging the transactions_new dataframe with the transactions dataframe and drop unnecessary columns\n",
    "\n",
    "drop_cols=['status','discount_percentage','price','item_name','basket_id','id','customer_id','revenue']\n",
    "transactions.drop(drop_cols, inplace=True, axis=1)\n",
    "transactions[['customer_id']] = transactions_new[['customer_id']]\n",
    "transactions[['revenue']] = transactions_new[['revenue']]\n",
    "transactions[['quantity']] = transactions_new[['quantity']]\n",
    "print(transactions.head(15))\n"
   ]
  },
  {
   "cell_type": "code",
   "execution_count": 80,
   "metadata": {},
   "outputs": [
    {
     "data": {
      "text/html": [
       "<div>\n",
       "<style scoped>\n",
       "    .dataframe tbody tr th:only-of-type {\n",
       "        vertical-align: middle;\n",
       "    }\n",
       "\n",
       "    .dataframe tbody tr th {\n",
       "        vertical-align: top;\n",
       "    }\n",
       "\n",
       "    .dataframe thead th {\n",
       "        text-align: right;\n",
       "    }\n",
       "</style>\n",
       "<table border=\"1\" class=\"dataframe\">\n",
       "  <thead>\n",
       "    <tr style=\"text-align: right;\">\n",
       "      <th></th>\n",
       "      <th>product_id</th>\n",
       "      <th>timestamp</th>\n",
       "      <th>customer_id</th>\n",
       "      <th>revenue</th>\n",
       "      <th>quantity</th>\n",
       "    </tr>\n",
       "  </thead>\n",
       "  <tbody>\n",
       "    <tr>\n",
       "      <th>197</th>\n",
       "      <td>1</td>\n",
       "      <td>06-2018</td>\n",
       "      <td>1253.0</td>\n",
       "      <td>20.0</td>\n",
       "      <td>1.0</td>\n",
       "    </tr>\n",
       "    <tr>\n",
       "      <th>198</th>\n",
       "      <td>1</td>\n",
       "      <td>06-2018</td>\n",
       "      <td>1253.0</td>\n",
       "      <td>25.0</td>\n",
       "      <td>1.0</td>\n",
       "    </tr>\n",
       "    <tr>\n",
       "      <th>199</th>\n",
       "      <td>2</td>\n",
       "      <td>06-2018</td>\n",
       "      <td>1253.0</td>\n",
       "      <td>30.0</td>\n",
       "      <td>3.0</td>\n",
       "    </tr>\n",
       "  </tbody>\n",
       "</table>\n",
       "</div>"
      ],
      "text/plain": [
       "     product_id timestamp  customer_id  revenue  quantity\n",
       "197           1   06-2018       1253.0     20.0       1.0\n",
       "198           1   06-2018       1253.0     25.0       1.0\n",
       "199           2   06-2018       1253.0     30.0       3.0"
      ]
     },
     "execution_count": 80,
     "metadata": {},
     "output_type": "execute_result"
    }
   ],
   "source": [
    "transactions.loc[transactions['customer_id'] == 1253]"
   ]
  },
  {
   "cell_type": "code",
   "execution_count": 81,
   "metadata": {},
   "outputs": [
    {
     "data": {
      "text/html": [
       "<div>\n",
       "<style scoped>\n",
       "    .dataframe tbody tr th:only-of-type {\n",
       "        vertical-align: middle;\n",
       "    }\n",
       "\n",
       "    .dataframe tbody tr th {\n",
       "        vertical-align: top;\n",
       "    }\n",
       "\n",
       "    .dataframe thead th {\n",
       "        text-align: right;\n",
       "    }\n",
       "</style>\n",
       "<table border=\"1\" class=\"dataframe\">\n",
       "  <thead>\n",
       "    <tr style=\"text-align: right;\">\n",
       "      <th></th>\n",
       "      <th>product_id</th>\n",
       "      <th>timestamp</th>\n",
       "      <th>customer_id</th>\n",
       "      <th>revenue</th>\n",
       "      <th>quantity</th>\n",
       "      <th>totalpurchase</th>\n",
       "    </tr>\n",
       "  </thead>\n",
       "  <tbody>\n",
       "    <tr>\n",
       "      <th>0</th>\n",
       "      <td>1</td>\n",
       "      <td>04-2017</td>\n",
       "      <td>1.0</td>\n",
       "      <td>0.0</td>\n",
       "      <td>31.0</td>\n",
       "      <td>0.0</td>\n",
       "    </tr>\n",
       "    <tr>\n",
       "      <th>1</th>\n",
       "      <td>1</td>\n",
       "      <td>04-2017</td>\n",
       "      <td>2.0</td>\n",
       "      <td>0.0</td>\n",
       "      <td>31.0</td>\n",
       "      <td>0.0</td>\n",
       "    </tr>\n",
       "    <tr>\n",
       "      <th>2</th>\n",
       "      <td>1</td>\n",
       "      <td>04-2017</td>\n",
       "      <td>3.0</td>\n",
       "      <td>0.0</td>\n",
       "      <td>21.0</td>\n",
       "      <td>0.0</td>\n",
       "    </tr>\n",
       "    <tr>\n",
       "      <th>3</th>\n",
       "      <td>1</td>\n",
       "      <td>04-2017</td>\n",
       "      <td>4.0</td>\n",
       "      <td>0.0</td>\n",
       "      <td>11.0</td>\n",
       "      <td>0.0</td>\n",
       "    </tr>\n",
       "    <tr>\n",
       "      <th>4</th>\n",
       "      <td>1</td>\n",
       "      <td>04-2017</td>\n",
       "      <td>5.0</td>\n",
       "      <td>0.0</td>\n",
       "      <td>7.0</td>\n",
       "      <td>0.0</td>\n",
       "    </tr>\n",
       "  </tbody>\n",
       "</table>\n",
       "</div>"
      ],
      "text/plain": [
       "   product_id timestamp  customer_id  revenue  quantity  totalpurchase\n",
       "0           1   04-2017          1.0      0.0      31.0            0.0\n",
       "1           1   04-2017          2.0      0.0      31.0            0.0\n",
       "2           1   04-2017          3.0      0.0      21.0            0.0\n",
       "3           1   04-2017          4.0      0.0      11.0            0.0\n",
       "4           1   04-2017          5.0      0.0       7.0            0.0"
      ]
     },
     "execution_count": 81,
     "metadata": {},
     "output_type": "execute_result"
    }
   ],
   "source": [
    "#calculating the total purchase amount for a customer  and create a new dataframe with only the required columns\n",
    "transactions['totalpurchase'] = transactions['quantity'] * transactions['revenue']\n",
    "transactions.head()"
   ]
  },
  {
   "cell_type": "code",
   "execution_count": 82,
   "metadata": {},
   "outputs": [
    {
     "data": {
      "text/html": [
       "<div>\n",
       "<style scoped>\n",
       "    .dataframe tbody tr th:only-of-type {\n",
       "        vertical-align: middle;\n",
       "    }\n",
       "\n",
       "    .dataframe tbody tr th {\n",
       "        vertical-align: top;\n",
       "    }\n",
       "\n",
       "    .dataframe thead th {\n",
       "        text-align: right;\n",
       "    }\n",
       "</style>\n",
       "<table border=\"1\" class=\"dataframe\">\n",
       "  <thead>\n",
       "    <tr style=\"text-align: right;\">\n",
       "      <th></th>\n",
       "      <th>customer_id</th>\n",
       "      <th>month_yr</th>\n",
       "      <th>Frequency</th>\n",
       "      <th>TotalSales</th>\n",
       "    </tr>\n",
       "  </thead>\n",
       "  <tbody>\n",
       "    <tr>\n",
       "      <th>0</th>\n",
       "      <td>1.0</td>\n",
       "      <td>04-2017</td>\n",
       "      <td>31.0</td>\n",
       "      <td>0.0</td>\n",
       "    </tr>\n",
       "    <tr>\n",
       "      <th>1</th>\n",
       "      <td>2.0</td>\n",
       "      <td>04-2017</td>\n",
       "      <td>31.0</td>\n",
       "      <td>0.0</td>\n",
       "    </tr>\n",
       "    <tr>\n",
       "      <th>2</th>\n",
       "      <td>3.0</td>\n",
       "      <td>04-2017</td>\n",
       "      <td>21.0</td>\n",
       "      <td>0.0</td>\n",
       "    </tr>\n",
       "    <tr>\n",
       "      <th>3</th>\n",
       "      <td>4.0</td>\n",
       "      <td>04-2017</td>\n",
       "      <td>11.0</td>\n",
       "      <td>0.0</td>\n",
       "    </tr>\n",
       "    <tr>\n",
       "      <th>4</th>\n",
       "      <td>5.0</td>\n",
       "      <td>04-2017</td>\n",
       "      <td>7.0</td>\n",
       "      <td>0.0</td>\n",
       "    </tr>\n",
       "    <tr>\n",
       "      <th>5</th>\n",
       "      <td>6.0</td>\n",
       "      <td>05-2017</td>\n",
       "      <td>2.0</td>\n",
       "      <td>0.0</td>\n",
       "    </tr>\n",
       "    <tr>\n",
       "      <th>6</th>\n",
       "      <td>1000.0</td>\n",
       "      <td>05-2017</td>\n",
       "      <td>2.0</td>\n",
       "      <td>15.0</td>\n",
       "    </tr>\n",
       "    <tr>\n",
       "      <th>7</th>\n",
       "      <td>1001.0</td>\n",
       "      <td>05-2017</td>\n",
       "      <td>2.0</td>\n",
       "      <td>30.0</td>\n",
       "    </tr>\n",
       "    <tr>\n",
       "      <th>8</th>\n",
       "      <td>1002.0</td>\n",
       "      <td>05-2017</td>\n",
       "      <td>2.0</td>\n",
       "      <td>30.0</td>\n",
       "    </tr>\n",
       "    <tr>\n",
       "      <th>9</th>\n",
       "      <td>1005.0</td>\n",
       "      <td>05-2017</td>\n",
       "      <td>10.0</td>\n",
       "      <td>135.0</td>\n",
       "    </tr>\n",
       "  </tbody>\n",
       "</table>\n",
       "</div>"
      ],
      "text/plain": [
       "   customer_id month_yr  Frequency  TotalSales\n",
       "0          1.0  04-2017       31.0         0.0\n",
       "1          2.0  04-2017       31.0         0.0\n",
       "2          3.0  04-2017       21.0         0.0\n",
       "3          4.0  04-2017       11.0         0.0\n",
       "4          5.0  04-2017        7.0         0.0\n",
       "5          6.0  05-2017        2.0         0.0\n",
       "6       1000.0  05-2017        2.0        15.0\n",
       "7       1001.0  05-2017        2.0        30.0\n",
       "8       1002.0  05-2017        2.0        30.0\n",
       "9       1005.0  05-2017       10.0       135.0"
      ]
     },
     "execution_count": 82,
     "metadata": {},
     "output_type": "execute_result"
    }
   ],
   "source": [
    "#creating a new dataframe by grouping customer_id\n",
    "transactions_data=transactions.groupby(['customer_id','timestamp'],as_index=False).agg({\n",
    "                                        'quantity': lambda quant: quant.sum(),\n",
    "                                        'totalpurchase': lambda price: price.sum()})\n",
    "\n",
    "transactions_data.columns=['customer_id','month_yr','Frequency','TotalSales']\n",
    "transactions_data.head(10)\n",
    "\n"
   ]
  },
  {
   "cell_type": "code",
   "execution_count": 83,
   "metadata": {},
   "outputs": [
    {
     "data": {
      "text/html": [
       "<div>\n",
       "<style scoped>\n",
       "    .dataframe tbody tr th:only-of-type {\n",
       "        vertical-align: middle;\n",
       "    }\n",
       "\n",
       "    .dataframe tbody tr th {\n",
       "        vertical-align: top;\n",
       "    }\n",
       "\n",
       "    .dataframe thead th {\n",
       "        text-align: right;\n",
       "    }\n",
       "</style>\n",
       "<table border=\"1\" class=\"dataframe\">\n",
       "  <thead>\n",
       "    <tr style=\"text-align: right;\">\n",
       "      <th></th>\n",
       "      <th>product_id</th>\n",
       "      <th>timestamp</th>\n",
       "      <th>customer_id</th>\n",
       "      <th>revenue</th>\n",
       "      <th>quantity</th>\n",
       "      <th>totalpurchase</th>\n",
       "    </tr>\n",
       "  </thead>\n",
       "  <tbody>\n",
       "    <tr>\n",
       "      <th>197</th>\n",
       "      <td>1</td>\n",
       "      <td>06-2018</td>\n",
       "      <td>1253.0</td>\n",
       "      <td>20.0</td>\n",
       "      <td>1.0</td>\n",
       "      <td>20.0</td>\n",
       "    </tr>\n",
       "    <tr>\n",
       "      <th>198</th>\n",
       "      <td>1</td>\n",
       "      <td>06-2018</td>\n",
       "      <td>1253.0</td>\n",
       "      <td>25.0</td>\n",
       "      <td>1.0</td>\n",
       "      <td>25.0</td>\n",
       "    </tr>\n",
       "    <tr>\n",
       "      <th>199</th>\n",
       "      <td>2</td>\n",
       "      <td>06-2018</td>\n",
       "      <td>1253.0</td>\n",
       "      <td>30.0</td>\n",
       "      <td>3.0</td>\n",
       "      <td>90.0</td>\n",
       "    </tr>\n",
       "  </tbody>\n",
       "</table>\n",
       "</div>"
      ],
      "text/plain": [
       "     product_id timestamp  customer_id  revenue  quantity  totalpurchase\n",
       "197           1   06-2018       1253.0     20.0       1.0           20.0\n",
       "198           1   06-2018       1253.0     25.0       1.0           25.0\n",
       "199           2   06-2018       1253.0     30.0       3.0           90.0"
      ]
     },
     "execution_count": 83,
     "metadata": {},
     "output_type": "execute_result"
    }
   ],
   "source": [
    "transactions.loc[transactions['customer_id'] == 1253]"
   ]
  },
  {
   "cell_type": "markdown",
   "metadata": {},
   "source": [
    "### Calculating CLTV"
   ]
  },
  {
   "cell_type": "code",
   "execution_count": 84,
   "metadata": {},
   "outputs": [
    {
     "name": "stdout",
     "output_type": "stream",
     "text": [
      "0.0\n",
      "0.0\n",
      "0.33\n",
      "0.5\n",
      "0.33\n",
      "0.38\n",
      "0.08\n",
      "0.31\n",
      "0.33\n",
      "0.29\n",
      "0.33\n",
      "0.36\n",
      "0.5\n",
      "0.29\n",
      "0.17\n",
      "0.22\n",
      "0.48\n",
      "0.36\n",
      "0.41\n",
      "0.27\n",
      "0.16\n",
      "0.29\n",
      "0.24\n",
      "0.17\n",
      "0.22\n",
      "0.2\n",
      "0.18\n",
      "0.19\n",
      "0.21\n",
      "0.2\n",
      "0.18\n",
      "0.19\n",
      "0.2\n",
      "0.21\n"
     ]
    }
   ],
   "source": [
    "# Here is how you can calculate month-to-month churn, \n",
    "#since this is a monthly subscription business this is important.\n",
    "\n",
    "\n",
    "start = dt(year=2017, day=1, month=4)\n",
    "end = dt(year=2020, day=1, month=1)\n",
    "\n",
    "current= start\n",
    "while current <= end:\n",
    "    last_month_start = current - relativedelta(months=1)\n",
    "    next_month_start = current + relativedelta(months=1)\n",
    "    \n",
    "    # CALCULATING MONTHLY CHURN\n",
    "    if current==start:\n",
    "        print(0.0) # can't be calculated since no customers from previous month exist\n",
    "    else:\n",
    "        this_month_customers = baskets[\n",
    "                np.logical_and(\n",
    "                    baskets.timestamp >= current,\n",
    "                    baskets.timestamp < next_month_start)\n",
    "            ].customer_id.unique()\n",
    "        last_month_customers = baskets[\n",
    "                np.logical_and(\n",
    "                    baskets.timestamp >= last_month_start,\n",
    "                    baskets.timestamp < current)\n",
    "            ].customer_id.unique()\n",
    "        # % of customers who were around last month but aren't around this month\n",
    "       \n",
    "        churn_rate=round(1-(np.mean(np.isin(last_month_customers, this_month_customers, assume_unique=True))),\n",
    "                2)\n",
    "        print(churn_rate   \n",
    "                \n",
    "        )\n",
    "    current = next_month_start"
   ]
  },
  {
   "cell_type": "code",
   "execution_count": 85,
   "metadata": {},
   "outputs": [],
   "source": [
    "#CLTV = ((Average Order Value x Purchase Frequency)/Churn Rate) x Profit margin.\n",
    "#Customer Value = Average Order Value * Purchase Frequency\n",
    "\n",
    "transactions_data['Order_value_avg']=transactions_data['TotalSales']/transactions_data['Frequency']\n"
   ]
  },
  {
   "cell_type": "code",
   "execution_count": 86,
   "metadata": {},
   "outputs": [
    {
     "name": "stdout",
     "output_type": "stream",
     "text": [
      "4006\n"
     ]
    }
   ],
   "source": [
    "###  Calculate Purchase Frequency\n",
    "total_customers=transactions_data.shape[0]\n",
    "purchase_frequency=sum(transactions_data['Frequency'])/transactions_data.shape[0]\n",
    "print(total_customers)"
   ]
  },
  {
   "cell_type": "code",
   "execution_count": 87,
   "metadata": {},
   "outputs": [
    {
     "data": {
      "text/html": [
       "<div>\n",
       "<style scoped>\n",
       "    .dataframe tbody tr th:only-of-type {\n",
       "        vertical-align: middle;\n",
       "    }\n",
       "\n",
       "    .dataframe tbody tr th {\n",
       "        vertical-align: top;\n",
       "    }\n",
       "\n",
       "    .dataframe thead th {\n",
       "        text-align: right;\n",
       "    }\n",
       "</style>\n",
       "<table border=\"1\" class=\"dataframe\">\n",
       "  <thead>\n",
       "    <tr style=\"text-align: right;\">\n",
       "      <th></th>\n",
       "      <th>customer_id</th>\n",
       "      <th>month_yr</th>\n",
       "      <th>Frequency</th>\n",
       "      <th>TotalSales</th>\n",
       "      <th>Order_value_avg</th>\n",
       "      <th>Profit_margin</th>\n",
       "    </tr>\n",
       "  </thead>\n",
       "  <tbody>\n",
       "    <tr>\n",
       "      <th>0</th>\n",
       "      <td>1.0</td>\n",
       "      <td>04-2017</td>\n",
       "      <td>31.0</td>\n",
       "      <td>0.0</td>\n",
       "      <td>0.0</td>\n",
       "      <td>0.00</td>\n",
       "    </tr>\n",
       "    <tr>\n",
       "      <th>1</th>\n",
       "      <td>2.0</td>\n",
       "      <td>04-2017</td>\n",
       "      <td>31.0</td>\n",
       "      <td>0.0</td>\n",
       "      <td>0.0</td>\n",
       "      <td>0.00</td>\n",
       "    </tr>\n",
       "    <tr>\n",
       "      <th>2</th>\n",
       "      <td>3.0</td>\n",
       "      <td>04-2017</td>\n",
       "      <td>21.0</td>\n",
       "      <td>0.0</td>\n",
       "      <td>0.0</td>\n",
       "      <td>0.00</td>\n",
       "    </tr>\n",
       "    <tr>\n",
       "      <th>3</th>\n",
       "      <td>4.0</td>\n",
       "      <td>04-2017</td>\n",
       "      <td>11.0</td>\n",
       "      <td>0.0</td>\n",
       "      <td>0.0</td>\n",
       "      <td>0.00</td>\n",
       "    </tr>\n",
       "    <tr>\n",
       "      <th>4</th>\n",
       "      <td>5.0</td>\n",
       "      <td>04-2017</td>\n",
       "      <td>7.0</td>\n",
       "      <td>0.0</td>\n",
       "      <td>0.0</td>\n",
       "      <td>0.00</td>\n",
       "    </tr>\n",
       "    <tr>\n",
       "      <th>5</th>\n",
       "      <td>6.0</td>\n",
       "      <td>05-2017</td>\n",
       "      <td>2.0</td>\n",
       "      <td>0.0</td>\n",
       "      <td>0.0</td>\n",
       "      <td>0.00</td>\n",
       "    </tr>\n",
       "    <tr>\n",
       "      <th>6</th>\n",
       "      <td>1000.0</td>\n",
       "      <td>05-2017</td>\n",
       "      <td>2.0</td>\n",
       "      <td>15.0</td>\n",
       "      <td>7.5</td>\n",
       "      <td>0.75</td>\n",
       "    </tr>\n",
       "    <tr>\n",
       "      <th>7</th>\n",
       "      <td>1001.0</td>\n",
       "      <td>05-2017</td>\n",
       "      <td>2.0</td>\n",
       "      <td>30.0</td>\n",
       "      <td>15.0</td>\n",
       "      <td>1.50</td>\n",
       "    </tr>\n",
       "    <tr>\n",
       "      <th>8</th>\n",
       "      <td>1002.0</td>\n",
       "      <td>05-2017</td>\n",
       "      <td>2.0</td>\n",
       "      <td>30.0</td>\n",
       "      <td>15.0</td>\n",
       "      <td>1.50</td>\n",
       "    </tr>\n",
       "    <tr>\n",
       "      <th>9</th>\n",
       "      <td>1005.0</td>\n",
       "      <td>05-2017</td>\n",
       "      <td>10.0</td>\n",
       "      <td>135.0</td>\n",
       "      <td>13.5</td>\n",
       "      <td>6.75</td>\n",
       "    </tr>\n",
       "  </tbody>\n",
       "</table>\n",
       "</div>"
      ],
      "text/plain": [
       "   customer_id month_yr  Frequency  TotalSales  Order_value_avg  Profit_margin\n",
       "0          1.0  04-2017       31.0         0.0              0.0           0.00\n",
       "1          2.0  04-2017       31.0         0.0              0.0           0.00\n",
       "2          3.0  04-2017       21.0         0.0              0.0           0.00\n",
       "3          4.0  04-2017       11.0         0.0              0.0           0.00\n",
       "4          5.0  04-2017        7.0         0.0              0.0           0.00\n",
       "5          6.0  05-2017        2.0         0.0              0.0           0.00\n",
       "6       1000.0  05-2017        2.0        15.0              7.5           0.75\n",
       "7       1001.0  05-2017        2.0        30.0             15.0           1.50\n",
       "8       1002.0  05-2017        2.0        30.0             15.0           1.50\n",
       "9       1005.0  05-2017       10.0       135.0             13.5           6.75"
      ]
     },
     "execution_count": 87,
     "metadata": {},
     "output_type": "execute_result"
    }
   ],
   "source": [
    "#Calculate Profit Margin\n",
    "#Profit margin is the commonly used profitability ratio. It represents how much percentage of total sales has earned as the gain.\n",
    "#Let's assume our business has approx 5% profit on the total sale.\n",
    "transactions_data['Profit_margin']=transactions_data['TotalSales']*0.05\n",
    "transactions_data.head(10)\n"
   ]
  },
  {
   "cell_type": "code",
   "execution_count": 88,
   "metadata": {},
   "outputs": [
    {
     "data": {
      "text/html": [
       "<div>\n",
       "<style scoped>\n",
       "    .dataframe tbody tr th:only-of-type {\n",
       "        vertical-align: middle;\n",
       "    }\n",
       "\n",
       "    .dataframe tbody tr th {\n",
       "        vertical-align: top;\n",
       "    }\n",
       "\n",
       "    .dataframe thead th {\n",
       "        text-align: right;\n",
       "    }\n",
       "</style>\n",
       "<table border=\"1\" class=\"dataframe\">\n",
       "  <thead>\n",
       "    <tr style=\"text-align: right;\">\n",
       "      <th></th>\n",
       "      <th>customer_id</th>\n",
       "      <th>month_yr</th>\n",
       "      <th>Frequency</th>\n",
       "      <th>TotalSales</th>\n",
       "      <th>Order_value_avg</th>\n",
       "      <th>Profit_margin</th>\n",
       "      <th>CLV</th>\n",
       "      <th>Cust_lifetime_value</th>\n",
       "    </tr>\n",
       "  </thead>\n",
       "  <tbody>\n",
       "    <tr>\n",
       "      <th>175</th>\n",
       "      <td>1312.0</td>\n",
       "      <td>10-2018</td>\n",
       "      <td>14.0</td>\n",
       "      <td>375.0</td>\n",
       "      <td>26.785714</td>\n",
       "      <td>18.75</td>\n",
       "      <td>665.424058</td>\n",
       "      <td>12476.701084</td>\n",
       "    </tr>\n",
       "    <tr>\n",
       "      <th>180</th>\n",
       "      <td>1322.0</td>\n",
       "      <td>10-2018</td>\n",
       "      <td>14.0</td>\n",
       "      <td>365.0</td>\n",
       "      <td>26.071429</td>\n",
       "      <td>18.25</td>\n",
       "      <td>647.679416</td>\n",
       "      <td>11820.149347</td>\n",
       "    </tr>\n",
       "    <tr>\n",
       "      <th>132</th>\n",
       "      <td>1237.0</td>\n",
       "      <td>06-2018</td>\n",
       "      <td>13.0</td>\n",
       "      <td>350.0</td>\n",
       "      <td>26.923077</td>\n",
       "      <td>17.50</td>\n",
       "      <td>668.836489</td>\n",
       "      <td>11704.638555</td>\n",
       "    </tr>\n",
       "    <tr>\n",
       "      <th>389</th>\n",
       "      <td>1740.0</td>\n",
       "      <td>03-2019</td>\n",
       "      <td>11.0</td>\n",
       "      <td>319.0</td>\n",
       "      <td>29.000000</td>\n",
       "      <td>15.95</td>\n",
       "      <td>720.432447</td>\n",
       "      <td>11490.897523</td>\n",
       "    </tr>\n",
       "    <tr>\n",
       "      <th>237</th>\n",
       "      <td>1432.0</td>\n",
       "      <td>01-2019</td>\n",
       "      <td>11.0</td>\n",
       "      <td>309.0</td>\n",
       "      <td>28.090909</td>\n",
       "      <td>15.45</td>\n",
       "      <td>697.848357</td>\n",
       "      <td>10781.757121</td>\n",
       "    </tr>\n",
       "    <tr>\n",
       "      <th>...</th>\n",
       "      <td>...</td>\n",
       "      <td>...</td>\n",
       "      <td>...</td>\n",
       "      <td>...</td>\n",
       "      <td>...</td>\n",
       "      <td>...</td>\n",
       "      <td>...</td>\n",
       "      <td>...</td>\n",
       "    </tr>\n",
       "    <tr>\n",
       "      <th>1070</th>\n",
       "      <td>3088.0</td>\n",
       "      <td>08-2019</td>\n",
       "      <td>6.0</td>\n",
       "      <td>159.0</td>\n",
       "      <td>26.500000</td>\n",
       "      <td>7.95</td>\n",
       "      <td>658.326201</td>\n",
       "      <td>5233.693299</td>\n",
       "    </tr>\n",
       "    <tr>\n",
       "      <th>408</th>\n",
       "      <td>1778.0</td>\n",
       "      <td>04-2019</td>\n",
       "      <td>6.0</td>\n",
       "      <td>159.0</td>\n",
       "      <td>26.500000</td>\n",
       "      <td>7.95</td>\n",
       "      <td>658.326201</td>\n",
       "      <td>5233.693299</td>\n",
       "    </tr>\n",
       "    <tr>\n",
       "      <th>1120</th>\n",
       "      <td>3191.0</td>\n",
       "      <td>08-2019</td>\n",
       "      <td>6.0</td>\n",
       "      <td>159.0</td>\n",
       "      <td>26.500000</td>\n",
       "      <td>7.95</td>\n",
       "      <td>658.326201</td>\n",
       "      <td>5233.693299</td>\n",
       "    </tr>\n",
       "    <tr>\n",
       "      <th>251</th>\n",
       "      <td>1463.0</td>\n",
       "      <td>01-2019</td>\n",
       "      <td>6.0</td>\n",
       "      <td>159.0</td>\n",
       "      <td>26.500000</td>\n",
       "      <td>7.95</td>\n",
       "      <td>658.326201</td>\n",
       "      <td>5233.693299</td>\n",
       "    </tr>\n",
       "    <tr>\n",
       "      <th>1069</th>\n",
       "      <td>3087.0</td>\n",
       "      <td>08-2019</td>\n",
       "      <td>6.0</td>\n",
       "      <td>159.0</td>\n",
       "      <td>26.500000</td>\n",
       "      <td>7.95</td>\n",
       "      <td>658.326201</td>\n",
       "      <td>5233.693299</td>\n",
       "    </tr>\n",
       "  </tbody>\n",
       "</table>\n",
       "<p>200 rows × 8 columns</p>\n",
       "</div>"
      ],
      "text/plain": [
       "      customer_id month_yr  Frequency  TotalSales  Order_value_avg  \\\n",
       "175        1312.0  10-2018       14.0       375.0        26.785714   \n",
       "180        1322.0  10-2018       14.0       365.0        26.071429   \n",
       "132        1237.0  06-2018       13.0       350.0        26.923077   \n",
       "389        1740.0  03-2019       11.0       319.0        29.000000   \n",
       "237        1432.0  01-2019       11.0       309.0        28.090909   \n",
       "...           ...      ...        ...         ...              ...   \n",
       "1070       3088.0  08-2019        6.0       159.0        26.500000   \n",
       "408        1778.0  04-2019        6.0       159.0        26.500000   \n",
       "1120       3191.0  08-2019        6.0       159.0        26.500000   \n",
       "251        1463.0  01-2019        6.0       159.0        26.500000   \n",
       "1069       3087.0  08-2019        6.0       159.0        26.500000   \n",
       "\n",
       "      Profit_margin         CLV  Cust_lifetime_value  \n",
       "175           18.75  665.424058         12476.701084  \n",
       "180           18.25  647.679416         11820.149347  \n",
       "132           17.50  668.836489         11704.638555  \n",
       "389           15.95  720.432447         11490.897523  \n",
       "237           15.45  697.848357         10781.757121  \n",
       "...             ...         ...                  ...  \n",
       "1070           7.95  658.326201          5233.693299  \n",
       "408            7.95  658.326201          5233.693299  \n",
       "1120           7.95  658.326201          5233.693299  \n",
       "251            7.95  658.326201          5233.693299  \n",
       "1069           7.95  658.326201          5233.693299  \n",
       "\n",
       "[200 rows x 8 columns]"
      ]
     },
     "execution_count": 88,
     "metadata": {},
     "output_type": "execute_result"
    }
   ],
   "source": [
    "# Customer Value\n",
    "transactions_data['CLV']=(transactions_data['Order_value_avg']*purchase_frequency)/churn_rate\n",
    "\n",
    "#Customer Lifetime Value(CLTF)\n",
    "transactions_data['Cust_lifetime_value']=transactions_data['CLV']*transactions_data['Profit_margin']\n",
    "\n",
    "#Top 5 customers based on CLTF\n",
    "transactions_data=transactions_data.sort_values(['Cust_lifetime_value'], ascending=False)\n",
    "transactions_data.head(200)\n",
    "#Customer 1312 has the highest lifetime value"
   ]
  },
  {
   "cell_type": "code",
   "execution_count": 89,
   "metadata": {},
   "outputs": [
    {
     "name": "stdout",
     "output_type": "stream",
     "text": [
      "      customer_id month_yr  Frequency  TotalSales  Order_value_avg  \\\n",
      "95         1169.0  01-2018        1.0        15.0        15.000000   \n",
      "89         1158.0  01-2018        3.0        50.0        16.666667   \n",
      "96         1170.0  01-2018        1.0         0.0         0.000000   \n",
      "88         1156.0  01-2018        4.0        65.0        16.250000   \n",
      "91         1163.0  01-2018        1.0        15.0        15.000000   \n",
      "...           ...      ...        ...         ...              ...   \n",
      "3648       8246.0  12-2019        1.0        12.0        12.000000   \n",
      "3656       8265.0  12-2019        1.0        12.0        12.000000   \n",
      "3657       8268.0  12-2019        1.0        12.0        12.000000   \n",
      "3663       8277.0  12-2019        1.0        12.0        12.000000   \n",
      "2997       6917.0  12-2019        2.0        39.0        19.500000   \n",
      "\n",
      "      Profit_margin         CLV  Cust_lifetime_value  \n",
      "95             0.75  372.637472           279.478104  \n",
      "89             2.50  414.041636          1035.104090  \n",
      "96             0.00    0.000000             0.000000  \n",
      "88             3.25  403.690595          1311.994434  \n",
      "91             0.75  372.637472           279.478104  \n",
      "...             ...         ...                  ...  \n",
      "3648           0.60  298.109978           178.865987  \n",
      "3656           0.60  298.109978           178.865987  \n",
      "3657           0.60  298.109978           178.865987  \n",
      "3663           0.60  298.109978           178.865987  \n",
      "2997           1.95  484.428714           944.635992  \n",
      "\n",
      "[4006 rows x 8 columns]\n"
     ]
    }
   ],
   "source": [
    "#Sorting by transaction date\n",
    "transactions_data=transactions_data.sort_values(['month_yr'], ascending='False')\n",
    "print(transactions_data)\n",
    "#Last transaction was on 12-2019"
   ]
  },
  {
   "cell_type": "code",
   "execution_count": 90,
   "metadata": {},
   "outputs": [
    {
     "data": {
      "text/html": [
       "<div>\n",
       "<style scoped>\n",
       "    .dataframe tbody tr th:only-of-type {\n",
       "        vertical-align: middle;\n",
       "    }\n",
       "\n",
       "    .dataframe tbody tr th {\n",
       "        vertical-align: top;\n",
       "    }\n",
       "\n",
       "    .dataframe thead th {\n",
       "        text-align: right;\n",
       "    }\n",
       "</style>\n",
       "<table border=\"1\" class=\"dataframe\">\n",
       "  <thead>\n",
       "    <tr style=\"text-align: right;\">\n",
       "      <th></th>\n",
       "      <th>month_yr</th>\n",
       "      <th>Cust_lifetime_value</th>\n",
       "    </tr>\n",
       "  </thead>\n",
       "  <tbody>\n",
       "    <tr>\n",
       "      <th>0</th>\n",
       "      <td>01-2018</td>\n",
       "      <td>9007.993342</td>\n",
       "    </tr>\n",
       "    <tr>\n",
       "      <th>1</th>\n",
       "      <td>01-2019</td>\n",
       "      <td>135481.130540</td>\n",
       "    </tr>\n",
       "    <tr>\n",
       "      <th>2</th>\n",
       "      <td>02-2018</td>\n",
       "      <td>7222.438787</td>\n",
       "    </tr>\n",
       "    <tr>\n",
       "      <th>3</th>\n",
       "      <td>02-2019</td>\n",
       "      <td>188569.494745</td>\n",
       "    </tr>\n",
       "    <tr>\n",
       "      <th>4</th>\n",
       "      <td>03-2018</td>\n",
       "      <td>6917.083081</td>\n",
       "    </tr>\n",
       "  </tbody>\n",
       "</table>\n",
       "</div>"
      ],
      "text/plain": [
       "  month_yr  Cust_lifetime_value\n",
       "0  01-2018          9007.993342\n",
       "1  01-2019        135481.130540\n",
       "2  02-2018          7222.438787\n",
       "3  02-2019        188569.494745\n",
       "4  03-2018          6917.083081"
      ]
     },
     "execution_count": 90,
     "metadata": {},
     "output_type": "execute_result"
    }
   ],
   "source": [
    "#Creating a new dataframe with combined Cust_lifetime_Value for each month\n",
    "tm=transactions_data.groupby('month_yr',as_index=False).agg({'Cust_lifetime_value': lambda x: x.sum()})\n",
    "tm.head()"
   ]
  },
  {
   "cell_type": "code",
   "execution_count": 91,
   "metadata": {},
   "outputs": [
    {
     "name": "stdout",
     "output_type": "stream",
     "text": [
      "   month_yr  Cust_lifetime_value\n",
      "0   01-2019        135481.130540\n",
      "1   02-2019        188569.494745\n",
      "2   03-2019        256497.122254\n",
      "3   04-2019        302361.466834\n",
      "4   05-2019        371537.280435\n",
      "5   06-2019        475124.592729\n",
      "6   07-2019        571400.883507\n",
      "7   08-2019        674439.563031\n",
      "8   09-2019        766771.075573\n",
      "9   10-2019        791887.338060\n",
      "10  11-2019        771109.900685\n",
      "11  12-2019        496379.197810\n"
     ]
    }
   ],
   "source": [
    "#Creating a new dataframe with data only from the past 1 year\n",
    "months=['01-2019','02-2019','03-2019','04-2019','05-2019','06-2019','07-2019','08-2019','09-2019','10-2019','11-2019','12-2019']\n",
    "rslt_df = tm[tm['month_yr'].isin(months)] \n",
    "rslt_df.reset_index(drop=True, inplace=True)\n",
    "#rslt_df.drop(['index'], axis = 1)\n",
    "print(rslt_df)"
   ]
  },
  {
   "cell_type": "code",
   "execution_count": 92,
   "metadata": {},
   "outputs": [
    {
     "name": "stdout",
     "output_type": "stream",
     "text": [
      "[44, 61, 72, 99, 127, 168, 208, 268, 339, 467, 704, 1225]\n"
     ]
    }
   ],
   "source": [
    "#Calculating number of customers in each month for the past 1 year\n",
    "cust_no_jan=len(transactions_data.loc[transactions_data['month_yr'] == '01-2019'])\n",
    "cust_no_feb=len(transactions_data.loc[transactions_data['month_yr'] == '02-2019'])\n",
    "cust_no_mar=len(transactions_data.loc[transactions_data['month_yr'] == '03-2019'])\n",
    "cust_no_apr=len(transactions_data.loc[transactions_data['month_yr'] == '04-2019'])\n",
    "cust_no_may=len(transactions_data.loc[transactions_data['month_yr'] == '05-2019'])\n",
    "cust_no_jun=len(transactions_data.loc[transactions_data['month_yr'] == '06-2019'])\n",
    "cust_no_jul=len(transactions_data.loc[transactions_data['month_yr'] == '07-2019'])\n",
    "cust_no_aug=len(transactions_data.loc[transactions_data['month_yr'] == '08-2019'])\n",
    "cust_no_sep=len(transactions_data.loc[transactions_data['month_yr'] == '09-2019'])\n",
    "cust_no_oct=len(transactions_data.loc[transactions_data['month_yr'] == '10-2019'])\n",
    "cust_no_nov=len(transactions_data.loc[transactions_data['month_yr'] == '11-2019'])\n",
    "cust_no_dec=len(transactions_data.loc[transactions_data['month_yr'] == '12-2019'])\n",
    "x=[cust_no_jan,cust_no_feb,cust_no_mar,cust_no_apr,cust_no_may,cust_no_jun,cust_no_jul,cust_no_aug,cust_no_sep,cust_no_oct,cust_no_nov,cust_no_dec]\n",
    " \n",
    "print(x)"
   ]
  },
  {
   "cell_type": "code",
   "execution_count": 93,
   "metadata": {},
   "outputs": [
    {
     "name": "stdout",
     "output_type": "stream",
     "text": [
      "   month_yr  Cust_lifetime_value  No of customers\n",
      "0   01-2019        135481.130540               44\n",
      "1   02-2019        188569.494745               61\n",
      "2   03-2019        256497.122254               72\n",
      "3   04-2019        302361.466834               99\n",
      "4   05-2019        371537.280435              127\n",
      "5   06-2019        475124.592729              168\n",
      "6   07-2019        571400.883507              208\n",
      "7   08-2019        674439.563031              268\n",
      "8   09-2019        766771.075573              339\n",
      "9   10-2019        791887.338060              467\n",
      "10  11-2019        771109.900685              704\n",
      "11  12-2019        496379.197810             1225\n"
     ]
    },
    {
     "name": "stderr",
     "output_type": "stream",
     "text": [
      "<ipython-input-93-455cd65401dc>:3: SettingWithCopyWarning: \n",
      "A value is trying to be set on a copy of a slice from a DataFrame.\n",
      "Try using .loc[row_indexer,col_indexer] = value instead\n",
      "\n",
      "See the caveats in the documentation: https://pandas.pydata.org/pandas-docs/stable/user_guide/indexing.html#returning-a-view-versus-a-copy\n",
      "  rslt_df[\"No of customers\"]=y['No of customers'].values\n"
     ]
    }
   ],
   "source": [
    "#create a dataframe and add its \"No of customers \" column to existing dataframe\n",
    "y = pd.DataFrame({'No of customers':x})\n",
    "rslt_df[\"No of customers\"]=y['No of customers'].values\n",
    "print(rslt_df)"
   ]
  },
  {
   "cell_type": "code",
   "execution_count": 94,
   "metadata": {},
   "outputs": [
    {
     "name": "stdout",
     "output_type": "stream",
     "text": [
      "   month_yr  Cust_lifetime_value  No of customers  Avg_Cust_lifetime_value\n",
      "0   01-2019        135481.130540               44              3079.116603\n",
      "1   02-2019        188569.494745               61              3091.303193\n",
      "2   03-2019        256497.122254               72              3562.460031\n",
      "3   04-2019        302361.466834               99              3054.156231\n",
      "4   05-2019        371537.280435              127              2925.490397\n",
      "5   06-2019        475124.592729              168              2828.122576\n",
      "6   07-2019        571400.883507              208              2747.119632\n",
      "7   08-2019        674439.563031              268              2516.565534\n",
      "8   09-2019        766771.075573              339              2261.861580\n",
      "9   10-2019        791887.338060              467              1695.690231\n",
      "10  11-2019        771109.900685              704              1095.326563\n",
      "11  12-2019        496379.197810             1225               405.207508\n"
     ]
    },
    {
     "name": "stderr",
     "output_type": "stream",
     "text": [
      "<ipython-input-94-c1c06d9b57bc>:2: SettingWithCopyWarning: \n",
      "A value is trying to be set on a copy of a slice from a DataFrame.\n",
      "Try using .loc[row_indexer,col_indexer] = value instead\n",
      "\n",
      "See the caveats in the documentation: https://pandas.pydata.org/pandas-docs/stable/user_guide/indexing.html#returning-a-view-versus-a-copy\n",
      "  rslt_df[\"Avg_Cust_lifetime_value\"]=rslt_df[\"Cust_lifetime_value\"]/rslt_df[\"No of customers\"]\n"
     ]
    }
   ],
   "source": [
    "#Create  new column which is calculated by dividing the combined Cust_lifetime_value by the number of customers that month\n",
    "rslt_df[\"Avg_Cust_lifetime_value\"]=rslt_df[\"Cust_lifetime_value\"]/rslt_df[\"No of customers\"]\n",
    "print(rslt_df)"
   ]
  },
  {
   "cell_type": "code",
   "execution_count": 95,
   "metadata": {},
   "outputs": [
    {
     "data": {
      "image/png": "[encoded data removed]",
      "text/plain": [
       "<Figure size 432x288 with 1 Axes>"
      ]
     },
     "metadata": {
      "needs_background": "light"
     },
     "output_type": "display_data"
    }
   ],
   "source": [
    "#plot showing change in Cust_lifetime_value(CLTF) in the past 1 year\n",
    "x = rslt_df['month_yr']\n",
    "y = rslt_df['Avg_Cust_lifetime_value']\n",
    "plt.plot(x, y)\n",
    "#plt.yscale(\"log\")\n",
    "plt.xticks(x,rotation='vertical')\n",
    "plt.xlabel('Month')\n",
    "plt.ylabel('Avg_Cust_lifetime_value')\n",
    "plt.title('CLTF variation in the last one year')\n",
    "plt.show()\n",
    "\n",
    "#The plot shows  that the 1st 4 months have hardly any  fluctuations in CLTF except for a spike in March 2019 \n",
    "#a  decline in the CLTF occurs from May 2019 \n"
   ]
  }
 ],
 "metadata": {
  "kernelspec": {
   "display_name": "Python 3",
   "language": "python",
   "name": "python3"
  },
  "language_info": {
   "codemirror_mode": {
    "name": "ipython",
    "version": 3
   },
   "file_extension": ".py",
   "mimetype": "text/x-python",
   "name": "python",
   "nbconvert_exporter": "python",
   "pygments_lexer": "ipython3",
   "version": "3.8.5"
  }
 },
 "nbformat": 4,
 "nbformat_minor": 4
}
